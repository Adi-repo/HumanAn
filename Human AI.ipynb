{
 "cells": [
  {
   "cell_type": "code",
   "execution_count": 1,
   "metadata": {},
   "outputs": [],
   "source": [
    "import pandas as pd"
   ]
  },
  {
   "cell_type": "code",
   "execution_count": 2,
   "metadata": {},
   "outputs": [],
   "source": [
    "data = pd.read_csv(\"C:/Users/ADITYA/Desktop/TCS/Power-Networks-LCL.csv\")"
   ]
  },
  {
   "cell_type": "code",
   "execution_count": 3,
   "metadata": {},
   "outputs": [
    {
     "data": {
      "text/html": [
       "<div>\n",
       "<style scoped>\n",
       "    .dataframe tbody tr th:only-of-type {\n",
       "        vertical-align: middle;\n",
       "    }\n",
       "\n",
       "    .dataframe tbody tr th {\n",
       "        vertical-align: top;\n",
       "    }\n",
       "\n",
       "    .dataframe thead th {\n",
       "        text-align: right;\n",
       "    }\n",
       "</style>\n",
       "<table border=\"1\" class=\"dataframe\">\n",
       "  <thead>\n",
       "    <tr style=\"text-align: right;\">\n",
       "      <th></th>\n",
       "      <th>LCLid</th>\n",
       "      <th>stdorToU</th>\n",
       "      <th>DateTime</th>\n",
       "      <th>KWh</th>\n",
       "      <th>Acorn</th>\n",
       "      <th>Acorn_grouped</th>\n",
       "    </tr>\n",
       "  </thead>\n",
       "  <tbody>\n",
       "    <tr>\n",
       "      <th>326612</th>\n",
       "      <td>MAC000018</td>\n",
       "      <td>Std</td>\n",
       "      <td>2011-12-07 09:30:00.0000000</td>\n",
       "      <td>0.303</td>\n",
       "      <td>ACORN-E</td>\n",
       "      <td>Affluent</td>\n",
       "    </tr>\n",
       "    <tr>\n",
       "      <th>326613</th>\n",
       "      <td>MAC000018</td>\n",
       "      <td>Std</td>\n",
       "      <td>2011-12-07 10:00:00.0000000</td>\n",
       "      <td>0.200</td>\n",
       "      <td>ACORN-E</td>\n",
       "      <td>Affluent</td>\n",
       "    </tr>\n",
       "    <tr>\n",
       "      <th>326614</th>\n",
       "      <td>MAC000018</td>\n",
       "      <td>Std</td>\n",
       "      <td>2011-12-07 10:30:00.0000000</td>\n",
       "      <td>0.218</td>\n",
       "      <td>ACORN-E</td>\n",
       "      <td>Affluent</td>\n",
       "    </tr>\n",
       "    <tr>\n",
       "      <th>326615</th>\n",
       "      <td>MAC000018</td>\n",
       "      <td>Std</td>\n",
       "      <td>2011-12-07 11:00:00.0000000</td>\n",
       "      <td>0.209</td>\n",
       "      <td>ACORN-E</td>\n",
       "      <td>Affluent</td>\n",
       "    </tr>\n",
       "    <tr>\n",
       "      <th>326616</th>\n",
       "      <td>MAC000018</td>\n",
       "      <td>Std</td>\n",
       "      <td>2011-12-07 11:30:00.0000000</td>\n",
       "      <td>0.210</td>\n",
       "      <td>ACORN-E</td>\n",
       "      <td>Affluent</td>\n",
       "    </tr>\n",
       "    <tr>\n",
       "      <th>326617</th>\n",
       "      <td>MAC000018</td>\n",
       "      <td>Std</td>\n",
       "      <td>2011-12-07 12:00:00.0000000</td>\n",
       "      <td>0.238</td>\n",
       "      <td>ACORN-E</td>\n",
       "      <td>Affluent</td>\n",
       "    </tr>\n",
       "    <tr>\n",
       "      <th>326618</th>\n",
       "      <td>MAC000018</td>\n",
       "      <td>Std</td>\n",
       "      <td>2011-12-07 12:30:00.0000000</td>\n",
       "      <td>0.439</td>\n",
       "      <td>ACORN-E</td>\n",
       "      <td>Affluent</td>\n",
       "    </tr>\n",
       "    <tr>\n",
       "      <th>326619</th>\n",
       "      <td>MAC000018</td>\n",
       "      <td>Std</td>\n",
       "      <td>2011-12-07 13:00:00.0000000</td>\n",
       "      <td>0.983</td>\n",
       "      <td>ACORN-E</td>\n",
       "      <td>Affluent</td>\n",
       "    </tr>\n",
       "    <tr>\n",
       "      <th>326620</th>\n",
       "      <td>MAC000018</td>\n",
       "      <td>Std</td>\n",
       "      <td>2011-12-07 13:30:00.0000000</td>\n",
       "      <td>0.352</td>\n",
       "      <td>ACORN-E</td>\n",
       "      <td>Affluent</td>\n",
       "    </tr>\n",
       "    <tr>\n",
       "      <th>326621</th>\n",
       "      <td>MAC000018</td>\n",
       "      <td>Std</td>\n",
       "      <td>2011-12-07 14:00:00.0000000</td>\n",
       "      <td>0.279</td>\n",
       "      <td>ACORN-E</td>\n",
       "      <td>Affluent</td>\n",
       "    </tr>\n",
       "  </tbody>\n",
       "</table>\n",
       "</div>"
      ],
      "text/plain": [
       "            LCLid stdorToU                     DateTime    KWh    Acorn  \\\n",
       "326612  MAC000018      Std  2011-12-07 09:30:00.0000000  0.303  ACORN-E   \n",
       "326613  MAC000018      Std  2011-12-07 10:00:00.0000000  0.200  ACORN-E   \n",
       "326614  MAC000018      Std  2011-12-07 10:30:00.0000000  0.218  ACORN-E   \n",
       "326615  MAC000018      Std  2011-12-07 11:00:00.0000000  0.209  ACORN-E   \n",
       "326616  MAC000018      Std  2011-12-07 11:30:00.0000000  0.210  ACORN-E   \n",
       "326617  MAC000018      Std  2011-12-07 12:00:00.0000000  0.238  ACORN-E   \n",
       "326618  MAC000018      Std  2011-12-07 12:30:00.0000000  0.439  ACORN-E   \n",
       "326619  MAC000018      Std  2011-12-07 13:00:00.0000000  0.983  ACORN-E   \n",
       "326620  MAC000018      Std  2011-12-07 13:30:00.0000000  0.352  ACORN-E   \n",
       "326621  MAC000018      Std  2011-12-07 14:00:00.0000000  0.279  ACORN-E   \n",
       "\n",
       "       Acorn_grouped  \n",
       "326612      Affluent  \n",
       "326613      Affluent  \n",
       "326614      Affluent  \n",
       "326615      Affluent  \n",
       "326616      Affluent  \n",
       "326617      Affluent  \n",
       "326618      Affluent  \n",
       "326619      Affluent  \n",
       "326620      Affluent  \n",
       "326621      Affluent  "
      ]
     },
     "execution_count": 3,
     "metadata": {},
     "output_type": "execute_result"
    }
   ],
   "source": [
    "data[data.LCLid == 'MAC000018'].head(10)"
   ]
  },
  {
   "cell_type": "code",
   "execution_count": 4,
   "metadata": {},
   "outputs": [
    {
     "data": {
      "text/plain": [
       "30"
      ]
     },
     "execution_count": 4,
     "metadata": {},
     "output_type": "execute_result"
    }
   ],
   "source": [
    "len(data['LCLid'].unique().tolist())"
   ]
  },
  {
   "cell_type": "code",
   "execution_count": 5,
   "metadata": {},
   "outputs": [],
   "source": [
    "ar = []\n",
    "for i in data['LCLid']:\n",
    "    if i not in ar:\n",
    "        ar.append(i)"
   ]
  },
  {
   "cell_type": "code",
   "execution_count": 6,
   "metadata": {},
   "outputs": [
    {
     "data": {
      "text/plain": [
       "39069"
      ]
     },
     "execution_count": 6,
     "metadata": {},
     "output_type": "execute_result"
    }
   ],
   "source": [
    "data[data.LCLid == \"MAC000034\"].shape[0]"
   ]
  },
  {
   "cell_type": "code",
   "execution_count": 7,
   "metadata": {},
   "outputs": [],
   "source": [
    "arr = []\n",
    "for i in ar:\n",
    "    arr.append(data[data.LCLid == i].shape[0])"
   ]
  },
  {
   "cell_type": "code",
   "execution_count": 8,
   "metadata": {},
   "outputs": [],
   "source": [
    "number = []\n",
    "for i in arr:\n",
    "    number.append(int(i))"
   ]
  },
  {
   "cell_type": "code",
   "execution_count": 9,
   "metadata": {},
   "outputs": [
    {
     "data": {
      "text/plain": [
       "array([24157, 35468, 31676, 36460, 25045, 26012, 25237, 25048, 23704,\n",
       "       24669, 29613, 19523, 39081, 39070, 39078, 39078, 39071, 39068,\n",
       "       39026, 39064, 39064, 39068, 32157, 39063, 39066, 39068, 39070,\n",
       "       39069, 39023, 16175])"
      ]
     },
     "execution_count": 9,
     "metadata": {},
     "output_type": "execute_result"
    }
   ],
   "source": [
    "import numpy as np\n",
    "np.array(number)"
   ]
  },
  {
   "cell_type": "code",
   "execution_count": 10,
   "metadata": {},
   "outputs": [
    {
     "data": {
      "text/plain": [
       "array([24157, 35468, 31676, 36460, 25045, 26012, 25237, 25048, 23704,\n",
       "       24669, 29613, 19523, 39081, 39070, 39078, 39078, 39071, 39068,\n",
       "       39026, 39064, 39064, 39068, 32157, 39063, 39066, 39068, 39070,\n",
       "       39069, 39023, 16175])"
      ]
     },
     "execution_count": 10,
     "metadata": {},
     "output_type": "execute_result"
    }
   ],
   "source": [
    "import numpy as np\n",
    "np.array(arr)"
   ]
  },
  {
   "cell_type": "code",
   "execution_count": 11,
   "metadata": {},
   "outputs": [],
   "source": [
    "ids = []\n",
    "num = [12,14,15]\n",
    "for i in num:\n",
    "    ids.append(ar[i])"
   ]
  },
  {
   "cell_type": "code",
   "execution_count": 12,
   "metadata": {},
   "outputs": [
    {
     "data": {
      "text/plain": [
       "['MAC000018', 'MAC000020', 'MAC000021']"
      ]
     },
     "execution_count": 12,
     "metadata": {},
     "output_type": "execute_result"
    }
   ],
   "source": [
    "ids"
   ]
  },
  {
   "cell_type": "code",
   "execution_count": 13,
   "metadata": {},
   "outputs": [
    {
     "name": "stdout",
     "output_type": "stream",
     "text": [
      "LCLid            39081\n",
      "stdorToU         39081\n",
      "DateTime         39081\n",
      "KWh              39081\n",
      "Acorn            39081\n",
      "Acorn_grouped    39081\n",
      "dtype: int64\n",
      "LCLid            39078\n",
      "stdorToU         39078\n",
      "DateTime         39078\n",
      "KWh              39078\n",
      "Acorn            39078\n",
      "Acorn_grouped    39078\n",
      "dtype: int64\n",
      "LCLid            39078\n",
      "stdorToU         39078\n",
      "DateTime         39078\n",
      "KWh              39078\n",
      "Acorn            39078\n",
      "Acorn_grouped    39078\n",
      "dtype: int64\n"
     ]
    }
   ],
   "source": [
    "for i in ids:\n",
    "    print(data[data.LCLid == i].count())"
   ]
  },
  {
   "cell_type": "code",
   "execution_count": 14,
   "metadata": {},
   "outputs": [],
   "source": [
    "df = data['LCLid']"
   ]
  },
  {
   "cell_type": "code",
   "execution_count": 15,
   "metadata": {},
   "outputs": [],
   "source": [
    "df = list(df)"
   ]
  },
  {
   "cell_type": "code",
   "execution_count": 16,
   "metadata": {},
   "outputs": [
    {
     "data": {
      "text/plain": [
       "326612"
      ]
     },
     "execution_count": 16,
     "metadata": {},
     "output_type": "execute_result"
    }
   ],
   "source": [
    "df.index('MAC000018')"
   ]
  },
  {
   "cell_type": "code",
   "execution_count": 17,
   "metadata": {},
   "outputs": [
    {
     "data": {
      "text/plain": [
       "404763"
      ]
     },
     "execution_count": 17,
     "metadata": {},
     "output_type": "execute_result"
    }
   ],
   "source": [
    "df.index('MAC000020')"
   ]
  },
  {
   "cell_type": "code",
   "execution_count": 18,
   "metadata": {},
   "outputs": [
    {
     "data": {
      "text/plain": [
       "443841"
      ]
     },
     "execution_count": 18,
     "metadata": {},
     "output_type": "execute_result"
    }
   ],
   "source": [
    "df.index('MAC000021')"
   ]
  },
  {
   "cell_type": "code",
   "execution_count": 19,
   "metadata": {},
   "outputs": [],
   "source": [
    "array = [1,2,3,4,5,6,7,8]"
   ]
  },
  {
   "cell_type": "code",
   "execution_count": 20,
   "metadata": {},
   "outputs": [
    {
     "data": {
      "text/plain": [
       "[7, 8]"
      ]
     },
     "execution_count": 20,
     "metadata": {},
     "output_type": "execute_result"
    }
   ],
   "source": [
    "array[-2:]"
   ]
  },
  {
   "cell_type": "code",
   "execution_count": 21,
   "metadata": {},
   "outputs": [],
   "source": [
    "df_new = data.copy()"
   ]
  },
  {
   "cell_type": "code",
   "execution_count": 22,
   "metadata": {},
   "outputs": [],
   "source": [
    "df1 = df_new[326612:326612+39081]"
   ]
  },
  {
   "cell_type": "code",
   "execution_count": 23,
   "metadata": {},
   "outputs": [],
   "source": [
    "df2 = df_new[404763:404763+39078]"
   ]
  },
  {
   "cell_type": "code",
   "execution_count": 24,
   "metadata": {},
   "outputs": [],
   "source": [
    "df3 = df_new[443841:443841+39078]"
   ]
  },
  {
   "cell_type": "code",
   "execution_count": 25,
   "metadata": {},
   "outputs": [
    {
     "data": {
      "text/plain": [
       "array(['ACORN-E'], dtype=object)"
      ]
     },
     "execution_count": 25,
     "metadata": {},
     "output_type": "execute_result"
    }
   ],
   "source": [
    "df3['Acorn'].unique()"
   ]
  },
  {
   "cell_type": "code",
   "execution_count": 26,
   "metadata": {},
   "outputs": [
    {
     "data": {
      "text/plain": [
       "array(['Affluent'], dtype=object)"
      ]
     },
     "execution_count": 26,
     "metadata": {},
     "output_type": "execute_result"
    }
   ],
   "source": [
    "df3['Acorn_grouped'].unique()"
   ]
  },
  {
   "cell_type": "code",
   "execution_count": 27,
   "metadata": {},
   "outputs": [
    {
     "data": {
      "text/plain": [
       "array(['ACORN-J'], dtype=object)"
      ]
     },
     "execution_count": 27,
     "metadata": {},
     "output_type": "execute_result"
    }
   ],
   "source": [
    "df2['Acorn'].unique()"
   ]
  },
  {
   "cell_type": "code",
   "execution_count": 28,
   "metadata": {},
   "outputs": [
    {
     "data": {
      "text/plain": [
       "array(['Comfortable'], dtype=object)"
      ]
     },
     "execution_count": 28,
     "metadata": {},
     "output_type": "execute_result"
    }
   ],
   "source": [
    "df2['Acorn_grouped'].unique()"
   ]
  },
  {
   "cell_type": "code",
   "execution_count": 29,
   "metadata": {},
   "outputs": [
    {
     "data": {
      "text/plain": [
       "array(['ACORN-E'], dtype=object)"
      ]
     },
     "execution_count": 29,
     "metadata": {},
     "output_type": "execute_result"
    }
   ],
   "source": [
    "df1['Acorn'].unique()"
   ]
  },
  {
   "cell_type": "code",
   "execution_count": 30,
   "metadata": {},
   "outputs": [
    {
     "data": {
      "text/plain": [
       "array(['Affluent'], dtype=object)"
      ]
     },
     "execution_count": 30,
     "metadata": {},
     "output_type": "execute_result"
    }
   ],
   "source": [
    "df1['Acorn_grouped'].unique()"
   ]
  },
  {
   "cell_type": "code",
   "execution_count": 31,
   "metadata": {},
   "outputs": [
    {
     "data": {
      "text/html": [
       "<div>\n",
       "<style scoped>\n",
       "    .dataframe tbody tr th:only-of-type {\n",
       "        vertical-align: middle;\n",
       "    }\n",
       "\n",
       "    .dataframe tbody tr th {\n",
       "        vertical-align: top;\n",
       "    }\n",
       "\n",
       "    .dataframe thead th {\n",
       "        text-align: right;\n",
       "    }\n",
       "</style>\n",
       "<table border=\"1\" class=\"dataframe\">\n",
       "  <thead>\n",
       "    <tr style=\"text-align: right;\">\n",
       "      <th></th>\n",
       "      <th>LCLid</th>\n",
       "      <th>stdorToU</th>\n",
       "      <th>DateTime</th>\n",
       "      <th>KWh</th>\n",
       "      <th>Acorn</th>\n",
       "      <th>Acorn_grouped</th>\n",
       "    </tr>\n",
       "  </thead>\n",
       "  <tbody>\n",
       "    <tr>\n",
       "      <th>326612</th>\n",
       "      <td>MAC000018</td>\n",
       "      <td>Std</td>\n",
       "      <td>2011-12-07 09:30:00.0000000</td>\n",
       "      <td>0.303</td>\n",
       "      <td>ACORN-E</td>\n",
       "      <td>Affluent</td>\n",
       "    </tr>\n",
       "    <tr>\n",
       "      <th>326613</th>\n",
       "      <td>MAC000018</td>\n",
       "      <td>Std</td>\n",
       "      <td>2011-12-07 10:00:00.0000000</td>\n",
       "      <td>0.200</td>\n",
       "      <td>ACORN-E</td>\n",
       "      <td>Affluent</td>\n",
       "    </tr>\n",
       "    <tr>\n",
       "      <th>326614</th>\n",
       "      <td>MAC000018</td>\n",
       "      <td>Std</td>\n",
       "      <td>2011-12-07 10:30:00.0000000</td>\n",
       "      <td>0.218</td>\n",
       "      <td>ACORN-E</td>\n",
       "      <td>Affluent</td>\n",
       "    </tr>\n",
       "    <tr>\n",
       "      <th>326615</th>\n",
       "      <td>MAC000018</td>\n",
       "      <td>Std</td>\n",
       "      <td>2011-12-07 11:00:00.0000000</td>\n",
       "      <td>0.209</td>\n",
       "      <td>ACORN-E</td>\n",
       "      <td>Affluent</td>\n",
       "    </tr>\n",
       "    <tr>\n",
       "      <th>326616</th>\n",
       "      <td>MAC000018</td>\n",
       "      <td>Std</td>\n",
       "      <td>2011-12-07 11:30:00.0000000</td>\n",
       "      <td>0.210</td>\n",
       "      <td>ACORN-E</td>\n",
       "      <td>Affluent</td>\n",
       "    </tr>\n",
       "  </tbody>\n",
       "</table>\n",
       "</div>"
      ],
      "text/plain": [
       "            LCLid stdorToU                     DateTime    KWh    Acorn  \\\n",
       "326612  MAC000018      Std  2011-12-07 09:30:00.0000000  0.303  ACORN-E   \n",
       "326613  MAC000018      Std  2011-12-07 10:00:00.0000000  0.200  ACORN-E   \n",
       "326614  MAC000018      Std  2011-12-07 10:30:00.0000000  0.218  ACORN-E   \n",
       "326615  MAC000018      Std  2011-12-07 11:00:00.0000000  0.209  ACORN-E   \n",
       "326616  MAC000018      Std  2011-12-07 11:30:00.0000000  0.210  ACORN-E   \n",
       "\n",
       "       Acorn_grouped  \n",
       "326612      Affluent  \n",
       "326613      Affluent  \n",
       "326614      Affluent  \n",
       "326615      Affluent  \n",
       "326616      Affluent  "
      ]
     },
     "execution_count": 31,
     "metadata": {},
     "output_type": "execute_result"
    }
   ],
   "source": [
    "df1.head()"
   ]
  },
  {
   "cell_type": "code",
   "execution_count": 32,
   "metadata": {},
   "outputs": [
    {
     "data": {
      "text/plain": [
       "365688    2014-02-27 22:30:00.0000000\n",
       "365689    2014-02-27 23:00:00.0000000\n",
       "365690    2014-02-27 23:30:00.0000000\n",
       "365691    2014-02-28 00:00:00.0000000\n",
       "365692    2014-02-28 00:00:00.0000000\n",
       "Name: DateTime, dtype: object"
      ]
     },
     "execution_count": 32,
     "metadata": {},
     "output_type": "execute_result"
    }
   ],
   "source": [
    "df1['DateTime'][-5:]"
   ]
  },
  {
   "cell_type": "code",
   "execution_count": 33,
   "metadata": {},
   "outputs": [],
   "source": [
    "from datetime import datetime"
   ]
  },
  {
   "cell_type": "code",
   "execution_count": 34,
   "metadata": {},
   "outputs": [
    {
     "name": "stderr",
     "output_type": "stream",
     "text": [
      "E:\\Anaconda3\\lib\\site-packages\\ipykernel_launcher.py:1: SettingWithCopyWarning: \n",
      "A value is trying to be set on a copy of a slice from a DataFrame.\n",
      "Try using .loc[row_indexer,col_indexer] = value instead\n",
      "\n",
      "See the caveats in the documentation: http://pandas.pydata.org/pandas-docs/stable/indexing.html#indexing-view-versus-copy\n",
      "  \"\"\"Entry point for launching an IPython kernel.\n"
     ]
    }
   ],
   "source": [
    "df1[\"DateTime\"] = df1[\"DateTime\"].apply(pd.to_datetime)"
   ]
  },
  {
   "cell_type": "code",
   "execution_count": 35,
   "metadata": {},
   "outputs": [
    {
     "name": "stderr",
     "output_type": "stream",
     "text": [
      "E:\\Anaconda3\\lib\\site-packages\\ipykernel_launcher.py:1: SettingWithCopyWarning: \n",
      "A value is trying to be set on a copy of a slice from a DataFrame.\n",
      "Try using .loc[row_indexer,col_indexer] = value instead\n",
      "\n",
      "See the caveats in the documentation: http://pandas.pydata.org/pandas-docs/stable/indexing.html#indexing-view-versus-copy\n",
      "  \"\"\"Entry point for launching an IPython kernel.\n"
     ]
    }
   ],
   "source": [
    "df2[\"DateTime\"] = df2[\"DateTime\"].apply(pd.to_datetime)"
   ]
  },
  {
   "cell_type": "code",
   "execution_count": 36,
   "metadata": {},
   "outputs": [
    {
     "name": "stderr",
     "output_type": "stream",
     "text": [
      "E:\\Anaconda3\\lib\\site-packages\\ipykernel_launcher.py:1: SettingWithCopyWarning: \n",
      "A value is trying to be set on a copy of a slice from a DataFrame.\n",
      "Try using .loc[row_indexer,col_indexer] = value instead\n",
      "\n",
      "See the caveats in the documentation: http://pandas.pydata.org/pandas-docs/stable/indexing.html#indexing-view-versus-copy\n",
      "  \"\"\"Entry point for launching an IPython kernel.\n"
     ]
    }
   ],
   "source": [
    "df3[\"DateTime\"] = df3[\"DateTime\"].apply(pd.to_datetime)"
   ]
  },
  {
   "cell_type": "code",
   "execution_count": 37,
   "metadata": {},
   "outputs": [
    {
     "name": "stderr",
     "output_type": "stream",
     "text": [
      "E:\\Anaconda3\\lib\\site-packages\\ipykernel_launcher.py:1: SettingWithCopyWarning: \n",
      "A value is trying to be set on a copy of a slice from a DataFrame.\n",
      "Try using .loc[row_indexer,col_indexer] = value instead\n",
      "\n",
      "See the caveats in the documentation: http://pandas.pydata.org/pandas-docs/stable/indexing.html#indexing-view-versus-copy\n",
      "  \"\"\"Entry point for launching an IPython kernel.\n",
      "E:\\Anaconda3\\lib\\site-packages\\ipykernel_launcher.py:2: SettingWithCopyWarning: \n",
      "A value is trying to be set on a copy of a slice from a DataFrame.\n",
      "Try using .loc[row_indexer,col_indexer] = value instead\n",
      "\n",
      "See the caveats in the documentation: http://pandas.pydata.org/pandas-docs/stable/indexing.html#indexing-view-versus-copy\n",
      "  \n",
      "E:\\Anaconda3\\lib\\site-packages\\ipykernel_launcher.py:3: SettingWithCopyWarning: \n",
      "A value is trying to be set on a copy of a slice from a DataFrame.\n",
      "Try using .loc[row_indexer,col_indexer] = value instead\n",
      "\n",
      "See the caveats in the documentation: http://pandas.pydata.org/pandas-docs/stable/indexing.html#indexing-view-versus-copy\n",
      "  This is separate from the ipykernel package so we can avoid doing imports until\n",
      "E:\\Anaconda3\\lib\\site-packages\\ipykernel_launcher.py:4: SettingWithCopyWarning: \n",
      "A value is trying to be set on a copy of a slice from a DataFrame.\n",
      "Try using .loc[row_indexer,col_indexer] = value instead\n",
      "\n",
      "See the caveats in the documentation: http://pandas.pydata.org/pandas-docs/stable/indexing.html#indexing-view-versus-copy\n",
      "  after removing the cwd from sys.path.\n",
      "E:\\Anaconda3\\lib\\site-packages\\ipykernel_launcher.py:5: SettingWithCopyWarning: \n",
      "A value is trying to be set on a copy of a slice from a DataFrame.\n",
      "Try using .loc[row_indexer,col_indexer] = value instead\n",
      "\n",
      "See the caveats in the documentation: http://pandas.pydata.org/pandas-docs/stable/indexing.html#indexing-view-versus-copy\n",
      "  \"\"\"\n"
     ]
    }
   ],
   "source": [
    "df1['year'] = df1['DateTime'].dt.year \n",
    "df1['month'] = df1['DateTime'].dt.month \n",
    "df1['day'] = df1['DateTime'].dt.day \n",
    "df1['hour'] = df1['DateTime'].dt.hour \n",
    "df1['minute'] = df1['DateTime'].dt.minute"
   ]
  },
  {
   "cell_type": "code",
   "execution_count": 38,
   "metadata": {},
   "outputs": [
    {
     "name": "stderr",
     "output_type": "stream",
     "text": [
      "E:\\Anaconda3\\lib\\site-packages\\ipykernel_launcher.py:1: SettingWithCopyWarning: \n",
      "A value is trying to be set on a copy of a slice from a DataFrame.\n",
      "Try using .loc[row_indexer,col_indexer] = value instead\n",
      "\n",
      "See the caveats in the documentation: http://pandas.pydata.org/pandas-docs/stable/indexing.html#indexing-view-versus-copy\n",
      "  \"\"\"Entry point for launching an IPython kernel.\n",
      "E:\\Anaconda3\\lib\\site-packages\\ipykernel_launcher.py:2: SettingWithCopyWarning: \n",
      "A value is trying to be set on a copy of a slice from a DataFrame.\n",
      "Try using .loc[row_indexer,col_indexer] = value instead\n",
      "\n",
      "See the caveats in the documentation: http://pandas.pydata.org/pandas-docs/stable/indexing.html#indexing-view-versus-copy\n",
      "  \n",
      "E:\\Anaconda3\\lib\\site-packages\\ipykernel_launcher.py:3: SettingWithCopyWarning: \n",
      "A value is trying to be set on a copy of a slice from a DataFrame.\n",
      "Try using .loc[row_indexer,col_indexer] = value instead\n",
      "\n",
      "See the caveats in the documentation: http://pandas.pydata.org/pandas-docs/stable/indexing.html#indexing-view-versus-copy\n",
      "  This is separate from the ipykernel package so we can avoid doing imports until\n",
      "E:\\Anaconda3\\lib\\site-packages\\ipykernel_launcher.py:4: SettingWithCopyWarning: \n",
      "A value is trying to be set on a copy of a slice from a DataFrame.\n",
      "Try using .loc[row_indexer,col_indexer] = value instead\n",
      "\n",
      "See the caveats in the documentation: http://pandas.pydata.org/pandas-docs/stable/indexing.html#indexing-view-versus-copy\n",
      "  after removing the cwd from sys.path.\n",
      "E:\\Anaconda3\\lib\\site-packages\\ipykernel_launcher.py:5: SettingWithCopyWarning: \n",
      "A value is trying to be set on a copy of a slice from a DataFrame.\n",
      "Try using .loc[row_indexer,col_indexer] = value instead\n",
      "\n",
      "See the caveats in the documentation: http://pandas.pydata.org/pandas-docs/stable/indexing.html#indexing-view-versus-copy\n",
      "  \"\"\"\n"
     ]
    }
   ],
   "source": [
    "df2['year'] = df2['DateTime'].dt.year \n",
    "df2['month'] = df2['DateTime'].dt.month \n",
    "df2['day'] = df2['DateTime'].dt.day \n",
    "df2['hour'] = df2['DateTime'].dt.hour \n",
    "df2['minute'] = df2['DateTime'].dt.minute"
   ]
  },
  {
   "cell_type": "code",
   "execution_count": 39,
   "metadata": {},
   "outputs": [
    {
     "name": "stderr",
     "output_type": "stream",
     "text": [
      "E:\\Anaconda3\\lib\\site-packages\\ipykernel_launcher.py:1: SettingWithCopyWarning: \n",
      "A value is trying to be set on a copy of a slice from a DataFrame.\n",
      "Try using .loc[row_indexer,col_indexer] = value instead\n",
      "\n",
      "See the caveats in the documentation: http://pandas.pydata.org/pandas-docs/stable/indexing.html#indexing-view-versus-copy\n",
      "  \"\"\"Entry point for launching an IPython kernel.\n",
      "E:\\Anaconda3\\lib\\site-packages\\ipykernel_launcher.py:2: SettingWithCopyWarning: \n",
      "A value is trying to be set on a copy of a slice from a DataFrame.\n",
      "Try using .loc[row_indexer,col_indexer] = value instead\n",
      "\n",
      "See the caveats in the documentation: http://pandas.pydata.org/pandas-docs/stable/indexing.html#indexing-view-versus-copy\n",
      "  \n",
      "E:\\Anaconda3\\lib\\site-packages\\ipykernel_launcher.py:3: SettingWithCopyWarning: \n",
      "A value is trying to be set on a copy of a slice from a DataFrame.\n",
      "Try using .loc[row_indexer,col_indexer] = value instead\n",
      "\n",
      "See the caveats in the documentation: http://pandas.pydata.org/pandas-docs/stable/indexing.html#indexing-view-versus-copy\n",
      "  This is separate from the ipykernel package so we can avoid doing imports until\n",
      "E:\\Anaconda3\\lib\\site-packages\\ipykernel_launcher.py:4: SettingWithCopyWarning: \n",
      "A value is trying to be set on a copy of a slice from a DataFrame.\n",
      "Try using .loc[row_indexer,col_indexer] = value instead\n",
      "\n",
      "See the caveats in the documentation: http://pandas.pydata.org/pandas-docs/stable/indexing.html#indexing-view-versus-copy\n",
      "  after removing the cwd from sys.path.\n",
      "E:\\Anaconda3\\lib\\site-packages\\ipykernel_launcher.py:5: SettingWithCopyWarning: \n",
      "A value is trying to be set on a copy of a slice from a DataFrame.\n",
      "Try using .loc[row_indexer,col_indexer] = value instead\n",
      "\n",
      "See the caveats in the documentation: http://pandas.pydata.org/pandas-docs/stable/indexing.html#indexing-view-versus-copy\n",
      "  \"\"\"\n"
     ]
    }
   ],
   "source": [
    "df3['year'] = df3['DateTime'].dt.year \n",
    "df3['month'] = df3['DateTime'].dt.month \n",
    "df3['day'] = df3['DateTime'].dt.day \n",
    "df3['hour'] = df3['DateTime'].dt.hour \n",
    "df3['minute'] = df3['DateTime'].dt.minute"
   ]
  },
  {
   "cell_type": "code",
   "execution_count": 40,
   "metadata": {},
   "outputs": [],
   "source": [
    "del df1[\"DateTime\"]"
   ]
  },
  {
   "cell_type": "code",
   "execution_count": 41,
   "metadata": {},
   "outputs": [],
   "source": [
    "del df2[\"DateTime\"]"
   ]
  },
  {
   "cell_type": "code",
   "execution_count": 42,
   "metadata": {},
   "outputs": [],
   "source": [
    "del df3[\"DateTime\"]"
   ]
  },
  {
   "cell_type": "code",
   "execution_count": 43,
   "metadata": {},
   "outputs": [
    {
     "data": {
      "text/html": [
       "<div>\n",
       "<style scoped>\n",
       "    .dataframe tbody tr th:only-of-type {\n",
       "        vertical-align: middle;\n",
       "    }\n",
       "\n",
       "    .dataframe tbody tr th {\n",
       "        vertical-align: top;\n",
       "    }\n",
       "\n",
       "    .dataframe thead th {\n",
       "        text-align: right;\n",
       "    }\n",
       "</style>\n",
       "<table border=\"1\" class=\"dataframe\">\n",
       "  <thead>\n",
       "    <tr style=\"text-align: right;\">\n",
       "      <th></th>\n",
       "      <th>LCLid</th>\n",
       "      <th>stdorToU</th>\n",
       "      <th>KWh</th>\n",
       "      <th>Acorn</th>\n",
       "      <th>Acorn_grouped</th>\n",
       "      <th>year</th>\n",
       "      <th>month</th>\n",
       "      <th>day</th>\n",
       "      <th>hour</th>\n",
       "      <th>minute</th>\n",
       "    </tr>\n",
       "  </thead>\n",
       "  <tbody>\n",
       "    <tr>\n",
       "      <th>326612</th>\n",
       "      <td>MAC000018</td>\n",
       "      <td>Std</td>\n",
       "      <td>0.303</td>\n",
       "      <td>ACORN-E</td>\n",
       "      <td>Affluent</td>\n",
       "      <td>2011</td>\n",
       "      <td>12</td>\n",
       "      <td>7</td>\n",
       "      <td>9</td>\n",
       "      <td>30</td>\n",
       "    </tr>\n",
       "    <tr>\n",
       "      <th>326613</th>\n",
       "      <td>MAC000018</td>\n",
       "      <td>Std</td>\n",
       "      <td>0.200</td>\n",
       "      <td>ACORN-E</td>\n",
       "      <td>Affluent</td>\n",
       "      <td>2011</td>\n",
       "      <td>12</td>\n",
       "      <td>7</td>\n",
       "      <td>10</td>\n",
       "      <td>0</td>\n",
       "    </tr>\n",
       "    <tr>\n",
       "      <th>326614</th>\n",
       "      <td>MAC000018</td>\n",
       "      <td>Std</td>\n",
       "      <td>0.218</td>\n",
       "      <td>ACORN-E</td>\n",
       "      <td>Affluent</td>\n",
       "      <td>2011</td>\n",
       "      <td>12</td>\n",
       "      <td>7</td>\n",
       "      <td>10</td>\n",
       "      <td>30</td>\n",
       "    </tr>\n",
       "    <tr>\n",
       "      <th>326615</th>\n",
       "      <td>MAC000018</td>\n",
       "      <td>Std</td>\n",
       "      <td>0.209</td>\n",
       "      <td>ACORN-E</td>\n",
       "      <td>Affluent</td>\n",
       "      <td>2011</td>\n",
       "      <td>12</td>\n",
       "      <td>7</td>\n",
       "      <td>11</td>\n",
       "      <td>0</td>\n",
       "    </tr>\n",
       "    <tr>\n",
       "      <th>326616</th>\n",
       "      <td>MAC000018</td>\n",
       "      <td>Std</td>\n",
       "      <td>0.210</td>\n",
       "      <td>ACORN-E</td>\n",
       "      <td>Affluent</td>\n",
       "      <td>2011</td>\n",
       "      <td>12</td>\n",
       "      <td>7</td>\n",
       "      <td>11</td>\n",
       "      <td>30</td>\n",
       "    </tr>\n",
       "    <tr>\n",
       "      <th>326617</th>\n",
       "      <td>MAC000018</td>\n",
       "      <td>Std</td>\n",
       "      <td>0.238</td>\n",
       "      <td>ACORN-E</td>\n",
       "      <td>Affluent</td>\n",
       "      <td>2011</td>\n",
       "      <td>12</td>\n",
       "      <td>7</td>\n",
       "      <td>12</td>\n",
       "      <td>0</td>\n",
       "    </tr>\n",
       "    <tr>\n",
       "      <th>326618</th>\n",
       "      <td>MAC000018</td>\n",
       "      <td>Std</td>\n",
       "      <td>0.439</td>\n",
       "      <td>ACORN-E</td>\n",
       "      <td>Affluent</td>\n",
       "      <td>2011</td>\n",
       "      <td>12</td>\n",
       "      <td>7</td>\n",
       "      <td>12</td>\n",
       "      <td>30</td>\n",
       "    </tr>\n",
       "    <tr>\n",
       "      <th>326619</th>\n",
       "      <td>MAC000018</td>\n",
       "      <td>Std</td>\n",
       "      <td>0.983</td>\n",
       "      <td>ACORN-E</td>\n",
       "      <td>Affluent</td>\n",
       "      <td>2011</td>\n",
       "      <td>12</td>\n",
       "      <td>7</td>\n",
       "      <td>13</td>\n",
       "      <td>0</td>\n",
       "    </tr>\n",
       "    <tr>\n",
       "      <th>326620</th>\n",
       "      <td>MAC000018</td>\n",
       "      <td>Std</td>\n",
       "      <td>0.352</td>\n",
       "      <td>ACORN-E</td>\n",
       "      <td>Affluent</td>\n",
       "      <td>2011</td>\n",
       "      <td>12</td>\n",
       "      <td>7</td>\n",
       "      <td>13</td>\n",
       "      <td>30</td>\n",
       "    </tr>\n",
       "    <tr>\n",
       "      <th>326621</th>\n",
       "      <td>MAC000018</td>\n",
       "      <td>Std</td>\n",
       "      <td>0.279</td>\n",
       "      <td>ACORN-E</td>\n",
       "      <td>Affluent</td>\n",
       "      <td>2011</td>\n",
       "      <td>12</td>\n",
       "      <td>7</td>\n",
       "      <td>14</td>\n",
       "      <td>0</td>\n",
       "    </tr>\n",
       "  </tbody>\n",
       "</table>\n",
       "</div>"
      ],
      "text/plain": [
       "            LCLid stdorToU    KWh    Acorn Acorn_grouped  year  month  day  \\\n",
       "326612  MAC000018      Std  0.303  ACORN-E      Affluent  2011     12    7   \n",
       "326613  MAC000018      Std  0.200  ACORN-E      Affluent  2011     12    7   \n",
       "326614  MAC000018      Std  0.218  ACORN-E      Affluent  2011     12    7   \n",
       "326615  MAC000018      Std  0.209  ACORN-E      Affluent  2011     12    7   \n",
       "326616  MAC000018      Std  0.210  ACORN-E      Affluent  2011     12    7   \n",
       "326617  MAC000018      Std  0.238  ACORN-E      Affluent  2011     12    7   \n",
       "326618  MAC000018      Std  0.439  ACORN-E      Affluent  2011     12    7   \n",
       "326619  MAC000018      Std  0.983  ACORN-E      Affluent  2011     12    7   \n",
       "326620  MAC000018      Std  0.352  ACORN-E      Affluent  2011     12    7   \n",
       "326621  MAC000018      Std  0.279  ACORN-E      Affluent  2011     12    7   \n",
       "\n",
       "        hour  minute  \n",
       "326612     9      30  \n",
       "326613    10       0  \n",
       "326614    10      30  \n",
       "326615    11       0  \n",
       "326616    11      30  \n",
       "326617    12       0  \n",
       "326618    12      30  \n",
       "326619    13       0  \n",
       "326620    13      30  \n",
       "326621    14       0  "
      ]
     },
     "execution_count": 43,
     "metadata": {},
     "output_type": "execute_result"
    }
   ],
   "source": [
    "df1.head(10)"
   ]
  },
  {
   "cell_type": "code",
   "execution_count": 44,
   "metadata": {},
   "outputs": [
    {
     "data": {
      "text/html": [
       "<div>\n",
       "<style scoped>\n",
       "    .dataframe tbody tr th:only-of-type {\n",
       "        vertical-align: middle;\n",
       "    }\n",
       "\n",
       "    .dataframe tbody tr th {\n",
       "        vertical-align: top;\n",
       "    }\n",
       "\n",
       "    .dataframe thead th {\n",
       "        text-align: right;\n",
       "    }\n",
       "</style>\n",
       "<table border=\"1\" class=\"dataframe\">\n",
       "  <thead>\n",
       "    <tr style=\"text-align: right;\">\n",
       "      <th></th>\n",
       "      <th>LCLid</th>\n",
       "      <th>stdorToU</th>\n",
       "      <th>KWh</th>\n",
       "      <th>Acorn</th>\n",
       "      <th>Acorn_grouped</th>\n",
       "      <th>year</th>\n",
       "      <th>month</th>\n",
       "      <th>day</th>\n",
       "      <th>hour</th>\n",
       "      <th>minute</th>\n",
       "    </tr>\n",
       "  </thead>\n",
       "  <tbody>\n",
       "    <tr>\n",
       "      <th>443831</th>\n",
       "      <td>MAC000020</td>\n",
       "      <td>Std</td>\n",
       "      <td>0.284</td>\n",
       "      <td>ACORN-J</td>\n",
       "      <td>Comfortable</td>\n",
       "      <td>2014</td>\n",
       "      <td>2</td>\n",
       "      <td>27</td>\n",
       "      <td>20</td>\n",
       "      <td>0</td>\n",
       "    </tr>\n",
       "    <tr>\n",
       "      <th>443832</th>\n",
       "      <td>MAC000020</td>\n",
       "      <td>Std</td>\n",
       "      <td>0.237</td>\n",
       "      <td>ACORN-J</td>\n",
       "      <td>Comfortable</td>\n",
       "      <td>2014</td>\n",
       "      <td>2</td>\n",
       "      <td>27</td>\n",
       "      <td>20</td>\n",
       "      <td>30</td>\n",
       "    </tr>\n",
       "    <tr>\n",
       "      <th>443833</th>\n",
       "      <td>MAC000020</td>\n",
       "      <td>Std</td>\n",
       "      <td>0.204</td>\n",
       "      <td>ACORN-J</td>\n",
       "      <td>Comfortable</td>\n",
       "      <td>2014</td>\n",
       "      <td>2</td>\n",
       "      <td>27</td>\n",
       "      <td>21</td>\n",
       "      <td>0</td>\n",
       "    </tr>\n",
       "    <tr>\n",
       "      <th>443834</th>\n",
       "      <td>MAC000020</td>\n",
       "      <td>Std</td>\n",
       "      <td>0.257</td>\n",
       "      <td>ACORN-J</td>\n",
       "      <td>Comfortable</td>\n",
       "      <td>2014</td>\n",
       "      <td>2</td>\n",
       "      <td>27</td>\n",
       "      <td>21</td>\n",
       "      <td>30</td>\n",
       "    </tr>\n",
       "    <tr>\n",
       "      <th>443835</th>\n",
       "      <td>MAC000020</td>\n",
       "      <td>Std</td>\n",
       "      <td>0.204</td>\n",
       "      <td>ACORN-J</td>\n",
       "      <td>Comfortable</td>\n",
       "      <td>2014</td>\n",
       "      <td>2</td>\n",
       "      <td>27</td>\n",
       "      <td>22</td>\n",
       "      <td>0</td>\n",
       "    </tr>\n",
       "    <tr>\n",
       "      <th>443836</th>\n",
       "      <td>MAC000020</td>\n",
       "      <td>Std</td>\n",
       "      <td>0.213</td>\n",
       "      <td>ACORN-J</td>\n",
       "      <td>Comfortable</td>\n",
       "      <td>2014</td>\n",
       "      <td>2</td>\n",
       "      <td>27</td>\n",
       "      <td>22</td>\n",
       "      <td>30</td>\n",
       "    </tr>\n",
       "    <tr>\n",
       "      <th>443837</th>\n",
       "      <td>MAC000020</td>\n",
       "      <td>Std</td>\n",
       "      <td>0.089</td>\n",
       "      <td>ACORN-J</td>\n",
       "      <td>Comfortable</td>\n",
       "      <td>2014</td>\n",
       "      <td>2</td>\n",
       "      <td>27</td>\n",
       "      <td>23</td>\n",
       "      <td>0</td>\n",
       "    </tr>\n",
       "    <tr>\n",
       "      <th>443838</th>\n",
       "      <td>MAC000020</td>\n",
       "      <td>Std</td>\n",
       "      <td>0.044</td>\n",
       "      <td>ACORN-J</td>\n",
       "      <td>Comfortable</td>\n",
       "      <td>2014</td>\n",
       "      <td>2</td>\n",
       "      <td>27</td>\n",
       "      <td>23</td>\n",
       "      <td>30</td>\n",
       "    </tr>\n",
       "    <tr>\n",
       "      <th>443839</th>\n",
       "      <td>MAC000020</td>\n",
       "      <td>Std</td>\n",
       "      <td>0.060</td>\n",
       "      <td>ACORN-J</td>\n",
       "      <td>Comfortable</td>\n",
       "      <td>2014</td>\n",
       "      <td>2</td>\n",
       "      <td>28</td>\n",
       "      <td>0</td>\n",
       "      <td>0</td>\n",
       "    </tr>\n",
       "    <tr>\n",
       "      <th>443840</th>\n",
       "      <td>MAC000020</td>\n",
       "      <td>Std</td>\n",
       "      <td>0.060</td>\n",
       "      <td>ACORN-J</td>\n",
       "      <td>Comfortable</td>\n",
       "      <td>2014</td>\n",
       "      <td>2</td>\n",
       "      <td>28</td>\n",
       "      <td>0</td>\n",
       "      <td>0</td>\n",
       "    </tr>\n",
       "  </tbody>\n",
       "</table>\n",
       "</div>"
      ],
      "text/plain": [
       "            LCLid stdorToU    KWh    Acorn Acorn_grouped  year  month  day  \\\n",
       "443831  MAC000020      Std  0.284  ACORN-J   Comfortable  2014      2   27   \n",
       "443832  MAC000020      Std  0.237  ACORN-J   Comfortable  2014      2   27   \n",
       "443833  MAC000020      Std  0.204  ACORN-J   Comfortable  2014      2   27   \n",
       "443834  MAC000020      Std  0.257  ACORN-J   Comfortable  2014      2   27   \n",
       "443835  MAC000020      Std  0.204  ACORN-J   Comfortable  2014      2   27   \n",
       "443836  MAC000020      Std  0.213  ACORN-J   Comfortable  2014      2   27   \n",
       "443837  MAC000020      Std  0.089  ACORN-J   Comfortable  2014      2   27   \n",
       "443838  MAC000020      Std  0.044  ACORN-J   Comfortable  2014      2   27   \n",
       "443839  MAC000020      Std  0.060  ACORN-J   Comfortable  2014      2   28   \n",
       "443840  MAC000020      Std  0.060  ACORN-J   Comfortable  2014      2   28   \n",
       "\n",
       "        hour  minute  \n",
       "443831    20       0  \n",
       "443832    20      30  \n",
       "443833    21       0  \n",
       "443834    21      30  \n",
       "443835    22       0  \n",
       "443836    22      30  \n",
       "443837    23       0  \n",
       "443838    23      30  \n",
       "443839     0       0  \n",
       "443840     0       0  "
      ]
     },
     "execution_count": 44,
     "metadata": {},
     "output_type": "execute_result"
    }
   ],
   "source": [
    "df2.tail(10)"
   ]
  },
  {
   "cell_type": "code",
   "execution_count": 45,
   "metadata": {},
   "outputs": [
    {
     "data": {
      "text/html": [
       "<div>\n",
       "<style scoped>\n",
       "    .dataframe tbody tr th:only-of-type {\n",
       "        vertical-align: middle;\n",
       "    }\n",
       "\n",
       "    .dataframe tbody tr th {\n",
       "        vertical-align: top;\n",
       "    }\n",
       "\n",
       "    .dataframe thead th {\n",
       "        text-align: right;\n",
       "    }\n",
       "</style>\n",
       "<table border=\"1\" class=\"dataframe\">\n",
       "  <thead>\n",
       "    <tr style=\"text-align: right;\">\n",
       "      <th></th>\n",
       "      <th>LCLid</th>\n",
       "      <th>stdorToU</th>\n",
       "      <th>KWh</th>\n",
       "      <th>Acorn</th>\n",
       "      <th>Acorn_grouped</th>\n",
       "      <th>year</th>\n",
       "      <th>month</th>\n",
       "      <th>day</th>\n",
       "      <th>hour</th>\n",
       "      <th>minute</th>\n",
       "    </tr>\n",
       "  </thead>\n",
       "  <tbody>\n",
       "    <tr>\n",
       "      <th>445022</th>\n",
       "      <td>MAC000021</td>\n",
       "      <td>Std</td>\n",
       "      <td>0.480</td>\n",
       "      <td>ACORN-E</td>\n",
       "      <td>Affluent</td>\n",
       "      <td>2012</td>\n",
       "      <td>1</td>\n",
       "      <td>1</td>\n",
       "      <td>0</td>\n",
       "      <td>0</td>\n",
       "    </tr>\n",
       "    <tr>\n",
       "      <th>445023</th>\n",
       "      <td>MAC000021</td>\n",
       "      <td>Std</td>\n",
       "      <td>0.444</td>\n",
       "      <td>ACORN-E</td>\n",
       "      <td>Affluent</td>\n",
       "      <td>2012</td>\n",
       "      <td>1</td>\n",
       "      <td>1</td>\n",
       "      <td>0</td>\n",
       "      <td>30</td>\n",
       "    </tr>\n",
       "    <tr>\n",
       "      <th>445024</th>\n",
       "      <td>MAC000021</td>\n",
       "      <td>Std</td>\n",
       "      <td>0.530</td>\n",
       "      <td>ACORN-E</td>\n",
       "      <td>Affluent</td>\n",
       "      <td>2012</td>\n",
       "      <td>1</td>\n",
       "      <td>1</td>\n",
       "      <td>1</td>\n",
       "      <td>0</td>\n",
       "    </tr>\n",
       "    <tr>\n",
       "      <th>445025</th>\n",
       "      <td>MAC000021</td>\n",
       "      <td>Std</td>\n",
       "      <td>0.484</td>\n",
       "      <td>ACORN-E</td>\n",
       "      <td>Affluent</td>\n",
       "      <td>2012</td>\n",
       "      <td>1</td>\n",
       "      <td>1</td>\n",
       "      <td>1</td>\n",
       "      <td>30</td>\n",
       "    </tr>\n",
       "    <tr>\n",
       "      <th>445026</th>\n",
       "      <td>MAC000021</td>\n",
       "      <td>Std</td>\n",
       "      <td>0.548</td>\n",
       "      <td>ACORN-E</td>\n",
       "      <td>Affluent</td>\n",
       "      <td>2012</td>\n",
       "      <td>1</td>\n",
       "      <td>1</td>\n",
       "      <td>2</td>\n",
       "      <td>0</td>\n",
       "    </tr>\n",
       "    <tr>\n",
       "      <th>445027</th>\n",
       "      <td>MAC000021</td>\n",
       "      <td>Std</td>\n",
       "      <td>0.438</td>\n",
       "      <td>ACORN-E</td>\n",
       "      <td>Affluent</td>\n",
       "      <td>2012</td>\n",
       "      <td>1</td>\n",
       "      <td>1</td>\n",
       "      <td>2</td>\n",
       "      <td>30</td>\n",
       "    </tr>\n",
       "    <tr>\n",
       "      <th>445028</th>\n",
       "      <td>MAC000021</td>\n",
       "      <td>Std</td>\n",
       "      <td>0.398</td>\n",
       "      <td>ACORN-E</td>\n",
       "      <td>Affluent</td>\n",
       "      <td>2012</td>\n",
       "      <td>1</td>\n",
       "      <td>1</td>\n",
       "      <td>3</td>\n",
       "      <td>0</td>\n",
       "    </tr>\n",
       "    <tr>\n",
       "      <th>445029</th>\n",
       "      <td>MAC000021</td>\n",
       "      <td>Std</td>\n",
       "      <td>0.325</td>\n",
       "      <td>ACORN-E</td>\n",
       "      <td>Affluent</td>\n",
       "      <td>2012</td>\n",
       "      <td>1</td>\n",
       "      <td>1</td>\n",
       "      <td>3</td>\n",
       "      <td>30</td>\n",
       "    </tr>\n",
       "    <tr>\n",
       "      <th>445030</th>\n",
       "      <td>MAC000021</td>\n",
       "      <td>Std</td>\n",
       "      <td>0.395</td>\n",
       "      <td>ACORN-E</td>\n",
       "      <td>Affluent</td>\n",
       "      <td>2012</td>\n",
       "      <td>1</td>\n",
       "      <td>1</td>\n",
       "      <td>4</td>\n",
       "      <td>0</td>\n",
       "    </tr>\n",
       "    <tr>\n",
       "      <th>445031</th>\n",
       "      <td>MAC000021</td>\n",
       "      <td>Std</td>\n",
       "      <td>0.385</td>\n",
       "      <td>ACORN-E</td>\n",
       "      <td>Affluent</td>\n",
       "      <td>2012</td>\n",
       "      <td>1</td>\n",
       "      <td>1</td>\n",
       "      <td>4</td>\n",
       "      <td>30</td>\n",
       "    </tr>\n",
       "  </tbody>\n",
       "</table>\n",
       "</div>"
      ],
      "text/plain": [
       "            LCLid stdorToU    KWh    Acorn Acorn_grouped  year  month  day  \\\n",
       "445022  MAC000021      Std  0.480  ACORN-E      Affluent  2012      1    1   \n",
       "445023  MAC000021      Std  0.444  ACORN-E      Affluent  2012      1    1   \n",
       "445024  MAC000021      Std  0.530  ACORN-E      Affluent  2012      1    1   \n",
       "445025  MAC000021      Std  0.484  ACORN-E      Affluent  2012      1    1   \n",
       "445026  MAC000021      Std  0.548  ACORN-E      Affluent  2012      1    1   \n",
       "445027  MAC000021      Std  0.438  ACORN-E      Affluent  2012      1    1   \n",
       "445028  MAC000021      Std  0.398  ACORN-E      Affluent  2012      1    1   \n",
       "445029  MAC000021      Std  0.325  ACORN-E      Affluent  2012      1    1   \n",
       "445030  MAC000021      Std  0.395  ACORN-E      Affluent  2012      1    1   \n",
       "445031  MAC000021      Std  0.385  ACORN-E      Affluent  2012      1    1   \n",
       "\n",
       "        hour  minute  \n",
       "445022     0       0  \n",
       "445023     0      30  \n",
       "445024     1       0  \n",
       "445025     1      30  \n",
       "445026     2       0  \n",
       "445027     2      30  \n",
       "445028     3       0  \n",
       "445029     3      30  \n",
       "445030     4       0  \n",
       "445031     4      30  "
      ]
     },
     "execution_count": 45,
     "metadata": {},
     "output_type": "execute_result"
    }
   ],
   "source": [
    "df3[df3.year == 2012].head(10)"
   ]
  },
  {
   "cell_type": "code",
   "execution_count": 46,
   "metadata": {},
   "outputs": [
    {
     "data": {
      "text/html": [
       "<div>\n",
       "<style scoped>\n",
       "    .dataframe tbody tr th:only-of-type {\n",
       "        vertical-align: middle;\n",
       "    }\n",
       "\n",
       "    .dataframe tbody tr th {\n",
       "        vertical-align: top;\n",
       "    }\n",
       "\n",
       "    .dataframe thead th {\n",
       "        text-align: right;\n",
       "    }\n",
       "</style>\n",
       "<table border=\"1\" class=\"dataframe\">\n",
       "  <thead>\n",
       "    <tr style=\"text-align: right;\">\n",
       "      <th></th>\n",
       "      <th>LCLid</th>\n",
       "      <th>stdorToU</th>\n",
       "      <th>KWh</th>\n",
       "      <th>Acorn</th>\n",
       "      <th>Acorn_grouped</th>\n",
       "      <th>year</th>\n",
       "      <th>month</th>\n",
       "      <th>day</th>\n",
       "      <th>hour</th>\n",
       "      <th>minute</th>\n",
       "    </tr>\n",
       "  </thead>\n",
       "  <tbody>\n",
       "    <tr>\n",
       "      <th>326612</th>\n",
       "      <td>MAC000018</td>\n",
       "      <td>Std</td>\n",
       "      <td>0.303</td>\n",
       "      <td>ACORN-E</td>\n",
       "      <td>Affluent</td>\n",
       "      <td>2011</td>\n",
       "      <td>12</td>\n",
       "      <td>7</td>\n",
       "      <td>9</td>\n",
       "      <td>30</td>\n",
       "    </tr>\n",
       "    <tr>\n",
       "      <th>326613</th>\n",
       "      <td>MAC000018</td>\n",
       "      <td>Std</td>\n",
       "      <td>0.200</td>\n",
       "      <td>ACORN-E</td>\n",
       "      <td>Affluent</td>\n",
       "      <td>2011</td>\n",
       "      <td>12</td>\n",
       "      <td>7</td>\n",
       "      <td>10</td>\n",
       "      <td>0</td>\n",
       "    </tr>\n",
       "    <tr>\n",
       "      <th>326614</th>\n",
       "      <td>MAC000018</td>\n",
       "      <td>Std</td>\n",
       "      <td>0.218</td>\n",
       "      <td>ACORN-E</td>\n",
       "      <td>Affluent</td>\n",
       "      <td>2011</td>\n",
       "      <td>12</td>\n",
       "      <td>7</td>\n",
       "      <td>10</td>\n",
       "      <td>30</td>\n",
       "    </tr>\n",
       "    <tr>\n",
       "      <th>326615</th>\n",
       "      <td>MAC000018</td>\n",
       "      <td>Std</td>\n",
       "      <td>0.209</td>\n",
       "      <td>ACORN-E</td>\n",
       "      <td>Affluent</td>\n",
       "      <td>2011</td>\n",
       "      <td>12</td>\n",
       "      <td>7</td>\n",
       "      <td>11</td>\n",
       "      <td>0</td>\n",
       "    </tr>\n",
       "    <tr>\n",
       "      <th>326616</th>\n",
       "      <td>MAC000018</td>\n",
       "      <td>Std</td>\n",
       "      <td>0.210</td>\n",
       "      <td>ACORN-E</td>\n",
       "      <td>Affluent</td>\n",
       "      <td>2011</td>\n",
       "      <td>12</td>\n",
       "      <td>7</td>\n",
       "      <td>11</td>\n",
       "      <td>30</td>\n",
       "    </tr>\n",
       "  </tbody>\n",
       "</table>\n",
       "</div>"
      ],
      "text/plain": [
       "            LCLid stdorToU    KWh    Acorn Acorn_grouped  year  month  day  \\\n",
       "326612  MAC000018      Std  0.303  ACORN-E      Affluent  2011     12    7   \n",
       "326613  MAC000018      Std  0.200  ACORN-E      Affluent  2011     12    7   \n",
       "326614  MAC000018      Std  0.218  ACORN-E      Affluent  2011     12    7   \n",
       "326615  MAC000018      Std  0.209  ACORN-E      Affluent  2011     12    7   \n",
       "326616  MAC000018      Std  0.210  ACORN-E      Affluent  2011     12    7   \n",
       "\n",
       "        hour  minute  \n",
       "326612     9      30  \n",
       "326613    10       0  \n",
       "326614    10      30  \n",
       "326615    11       0  \n",
       "326616    11      30  "
      ]
     },
     "execution_count": 46,
     "metadata": {},
     "output_type": "execute_result"
    }
   ],
   "source": [
    "df1.head()"
   ]
  },
  {
   "cell_type": "markdown",
   "metadata": {},
   "source": [
    "- To convert string into integer"
   ]
  },
  {
   "cell_type": "code",
   "execution_count": 47,
   "metadata": {},
   "outputs": [],
   "source": [
    "#pd.factorize(df4.LCLid)[0]"
   ]
  },
  {
   "cell_type": "code",
   "execution_count": 48,
   "metadata": {},
   "outputs": [],
   "source": [
    "df4 = df1.copy()"
   ]
  },
  {
   "cell_type": "code",
   "execution_count": 49,
   "metadata": {},
   "outputs": [],
   "source": [
    "del df4['LCLid']\n",
    "del df4['Acorn_grouped']\n",
    "del df4['Acorn']\n",
    "del df4['stdorToU']"
   ]
  },
  {
   "cell_type": "code",
   "execution_count": 50,
   "metadata": {},
   "outputs": [],
   "source": [
    "import matplotlib.pyplot as plt"
   ]
  },
  {
   "cell_type": "code",
   "execution_count": 51,
   "metadata": {},
   "outputs": [
    {
     "data": {
      "text/html": [
       "<style  type=\"text/css\" >\n",
       "    #T_78108300_c7d9_11e9_a97a_9840bb33be85row0_col0 {\n",
       "            background-color:  #b40426;\n",
       "        }    #T_78108300_c7d9_11e9_a97a_9840bb33be85row0_col1 {\n",
       "            background-color:  #3b4cc0;\n",
       "        }    #T_78108300_c7d9_11e9_a97a_9840bb33be85row0_col2 {\n",
       "            background-color:  #5b7ae5;\n",
       "        }    #T_78108300_c7d9_11e9_a97a_9840bb33be85row0_col3 {\n",
       "            background-color:  #5d7ce6;\n",
       "        }    #T_78108300_c7d9_11e9_a97a_9840bb33be85row0_col4 {\n",
       "            background-color:  #9abbff;\n",
       "        }    #T_78108300_c7d9_11e9_a97a_9840bb33be85row0_col5 {\n",
       "            background-color:  #5e7de7;\n",
       "        }    #T_78108300_c7d9_11e9_a97a_9840bb33be85row1_col0 {\n",
       "            background-color:  #6485ec;\n",
       "        }    #T_78108300_c7d9_11e9_a97a_9840bb33be85row1_col1 {\n",
       "            background-color:  #b40426;\n",
       "        }    #T_78108300_c7d9_11e9_a97a_9840bb33be85row1_col2 {\n",
       "            background-color:  #3b4cc0;\n",
       "        }    #T_78108300_c7d9_11e9_a97a_9840bb33be85row1_col3 {\n",
       "            background-color:  #7ea1fa;\n",
       "        }    #T_78108300_c7d9_11e9_a97a_9840bb33be85row1_col4 {\n",
       "            background-color:  #89acfd;\n",
       "        }    #T_78108300_c7d9_11e9_a97a_9840bb33be85row1_col5 {\n",
       "            background-color:  #89acfd;\n",
       "        }    #T_78108300_c7d9_11e9_a97a_9840bb33be85row2_col0 {\n",
       "            background-color:  #85a8fc;\n",
       "        }    #T_78108300_c7d9_11e9_a97a_9840bb33be85row2_col1 {\n",
       "            background-color:  #3b4cc0;\n",
       "        }    #T_78108300_c7d9_11e9_a97a_9840bb33be85row2_col2 {\n",
       "            background-color:  #b40426;\n",
       "        }    #T_78108300_c7d9_11e9_a97a_9840bb33be85row2_col3 {\n",
       "            background-color:  #92b4fe;\n",
       "        }    #T_78108300_c7d9_11e9_a97a_9840bb33be85row2_col4 {\n",
       "            background-color:  #89acfd;\n",
       "        }    #T_78108300_c7d9_11e9_a97a_9840bb33be85row2_col5 {\n",
       "            background-color:  #89acfd;\n",
       "        }    #T_78108300_c7d9_11e9_a97a_9840bb33be85row3_col0 {\n",
       "            background-color:  #445acc;\n",
       "        }    #T_78108300_c7d9_11e9_a97a_9840bb33be85row3_col1 {\n",
       "            background-color:  #3b4cc0;\n",
       "        }    #T_78108300_c7d9_11e9_a97a_9840bb33be85row3_col2 {\n",
       "            background-color:  #4f69d9;\n",
       "        }    #T_78108300_c7d9_11e9_a97a_9840bb33be85row3_col3 {\n",
       "            background-color:  #b40426;\n",
       "        }    #T_78108300_c7d9_11e9_a97a_9840bb33be85row3_col4 {\n",
       "            background-color:  #455cce;\n",
       "        }    #T_78108300_c7d9_11e9_a97a_9840bb33be85row3_col5 {\n",
       "            background-color:  #455cce;\n",
       "        }    #T_78108300_c7d9_11e9_a97a_9840bb33be85row4_col0 {\n",
       "            background-color:  #799cf8;\n",
       "        }    #T_78108300_c7d9_11e9_a97a_9840bb33be85row4_col1 {\n",
       "            background-color:  #3b4cc0;\n",
       "        }    #T_78108300_c7d9_11e9_a97a_9840bb33be85row4_col2 {\n",
       "            background-color:  #3b4cc0;\n",
       "        }    #T_78108300_c7d9_11e9_a97a_9840bb33be85row4_col3 {\n",
       "            background-color:  #3b4cc0;\n",
       "        }    #T_78108300_c7d9_11e9_a97a_9840bb33be85row4_col4 {\n",
       "            background-color:  #b40426;\n",
       "        }    #T_78108300_c7d9_11e9_a97a_9840bb33be85row4_col5 {\n",
       "            background-color:  #3b4cc0;\n",
       "        }    #T_78108300_c7d9_11e9_a97a_9840bb33be85row5_col0 {\n",
       "            background-color:  #3b4cc0;\n",
       "        }    #T_78108300_c7d9_11e9_a97a_9840bb33be85row5_col1 {\n",
       "            background-color:  #3c4ec2;\n",
       "        }    #T_78108300_c7d9_11e9_a97a_9840bb33be85row5_col2 {\n",
       "            background-color:  #3c4ec2;\n",
       "        }    #T_78108300_c7d9_11e9_a97a_9840bb33be85row5_col3 {\n",
       "            background-color:  #3c4ec2;\n",
       "        }    #T_78108300_c7d9_11e9_a97a_9840bb33be85row5_col4 {\n",
       "            background-color:  #3c4ec2;\n",
       "        }    #T_78108300_c7d9_11e9_a97a_9840bb33be85row5_col5 {\n",
       "            background-color:  #b40426;\n",
       "        }</style>  \n",
       "<table id=\"T_78108300_c7d9_11e9_a97a_9840bb33be85\" > \n",
       "<thead>    <tr> \n",
       "        <th class=\"blank level0\" ></th> \n",
       "        <th class=\"col_heading level0 col0\" >KWh</th> \n",
       "        <th class=\"col_heading level0 col1\" >year</th> \n",
       "        <th class=\"col_heading level0 col2\" >month</th> \n",
       "        <th class=\"col_heading level0 col3\" >day</th> \n",
       "        <th class=\"col_heading level0 col4\" >hour</th> \n",
       "        <th class=\"col_heading level0 col5\" >minute</th> \n",
       "    </tr></thead> \n",
       "<tbody>    <tr> \n",
       "        <th id=\"T_78108300_c7d9_11e9_a97a_9840bb33be85level0_row0\" class=\"row_heading level0 row0\" >KWh</th> \n",
       "        <td id=\"T_78108300_c7d9_11e9_a97a_9840bb33be85row0_col0\" class=\"data row0 col0\" >1.0</td> \n",
       "        <td id=\"T_78108300_c7d9_11e9_a97a_9840bb33be85row0_col1\" class=\"data row0 col1\" >-0.136</td> \n",
       "        <td id=\"T_78108300_c7d9_11e9_a97a_9840bb33be85row0_col2\" class=\"data row0 col2\" >-0.0126</td> \n",
       "        <td id=\"T_78108300_c7d9_11e9_a97a_9840bb33be85row0_col3\" class=\"data row0 col3\" >-0.00766</td> \n",
       "        <td id=\"T_78108300_c7d9_11e9_a97a_9840bb33be85row0_col4\" class=\"data row0 col4\" >0.192</td> \n",
       "        <td id=\"T_78108300_c7d9_11e9_a97a_9840bb33be85row0_col5\" class=\"data row0 col5\" >-0.00528</td> \n",
       "    </tr>    <tr> \n",
       "        <th id=\"T_78108300_c7d9_11e9_a97a_9840bb33be85level0_row1\" class=\"row_heading level0 row1\" >year</th> \n",
       "        <td id=\"T_78108300_c7d9_11e9_a97a_9840bb33be85row1_col0\" class=\"data row1 col0\" >-0.136</td> \n",
       "        <td id=\"T_78108300_c7d9_11e9_a97a_9840bb33be85row1_col1\" class=\"data row1 col1\" >1.0</td> \n",
       "        <td id=\"T_78108300_c7d9_11e9_a97a_9840bb33be85row1_col2\" class=\"data row1 col2\" >-0.316</td> \n",
       "        <td id=\"T_78108300_c7d9_11e9_a97a_9840bb33be85row1_col3\" class=\"data row1 col3\" >-0.0405</td> \n",
       "        <td id=\"T_78108300_c7d9_11e9_a97a_9840bb33be85row1_col4\" class=\"data row1 col4\" >-0.00126</td> \n",
       "        <td id=\"T_78108300_c7d9_11e9_a97a_9840bb33be85row1_col5\" class=\"data row1 col5\" >-0.000109</td> \n",
       "    </tr>    <tr> \n",
       "        <th id=\"T_78108300_c7d9_11e9_a97a_9840bb33be85level0_row2\" class=\"row_heading level0 row2\" >month</th> \n",
       "        <td id=\"T_78108300_c7d9_11e9_a97a_9840bb33be85row2_col0\" class=\"data row2 col0\" >-0.0126</td> \n",
       "        <td id=\"T_78108300_c7d9_11e9_a97a_9840bb33be85row2_col1\" class=\"data row2 col1\" >-0.316</td> \n",
       "        <td id=\"T_78108300_c7d9_11e9_a97a_9840bb33be85row2_col2\" class=\"data row2 col2\" >1.0</td> \n",
       "        <td id=\"T_78108300_c7d9_11e9_a97a_9840bb33be85row2_col3\" class=\"data row2 col3\" >0.0324</td> \n",
       "        <td id=\"T_78108300_c7d9_11e9_a97a_9840bb33be85row2_col4\" class=\"data row2 col4\" >0.000835</td> \n",
       "        <td id=\"T_78108300_c7d9_11e9_a97a_9840bb33be85row2_col5\" class=\"data row2 col5\" >6.84e-05</td> \n",
       "    </tr>    <tr> \n",
       "        <th id=\"T_78108300_c7d9_11e9_a97a_9840bb33be85level0_row3\" class=\"row_heading level0 row3\" >day</th> \n",
       "        <td id=\"T_78108300_c7d9_11e9_a97a_9840bb33be85row3_col0\" class=\"data row3 col0\" >-0.00766</td> \n",
       "        <td id=\"T_78108300_c7d9_11e9_a97a_9840bb33be85row3_col1\" class=\"data row3 col1\" >-0.0405</td> \n",
       "        <td id=\"T_78108300_c7d9_11e9_a97a_9840bb33be85row3_col2\" class=\"data row3 col2\" >0.0324</td> \n",
       "        <td id=\"T_78108300_c7d9_11e9_a97a_9840bb33be85row3_col3\" class=\"data row3 col3\" >1.0</td> \n",
       "        <td id=\"T_78108300_c7d9_11e9_a97a_9840bb33be85row3_col4\" class=\"data row3 col4\" >-0.00136</td> \n",
       "        <td id=\"T_78108300_c7d9_11e9_a97a_9840bb33be85row3_col5\" class=\"data row3 col5\" >-0.000536</td> \n",
       "    </tr>    <tr> \n",
       "        <th id=\"T_78108300_c7d9_11e9_a97a_9840bb33be85level0_row4\" class=\"row_heading level0 row4\" >hour</th> \n",
       "        <td id=\"T_78108300_c7d9_11e9_a97a_9840bb33be85row4_col0\" class=\"data row4 col0\" >0.192</td> \n",
       "        <td id=\"T_78108300_c7d9_11e9_a97a_9840bb33be85row4_col1\" class=\"data row4 col1\" >-0.00126</td> \n",
       "        <td id=\"T_78108300_c7d9_11e9_a97a_9840bb33be85row4_col2\" class=\"data row4 col2\" >0.000835</td> \n",
       "        <td id=\"T_78108300_c7d9_11e9_a97a_9840bb33be85row4_col3\" class=\"data row4 col3\" >-0.00136</td> \n",
       "        <td id=\"T_78108300_c7d9_11e9_a97a_9840bb33be85row4_col4\" class=\"data row4 col4\" >1.0</td> \n",
       "        <td id=\"T_78108300_c7d9_11e9_a97a_9840bb33be85row4_col5\" class=\"data row4 col5\" >0.00118</td> \n",
       "    </tr>    <tr> \n",
       "        <th id=\"T_78108300_c7d9_11e9_a97a_9840bb33be85level0_row5\" class=\"row_heading level0 row5\" >minute</th> \n",
       "        <td id=\"T_78108300_c7d9_11e9_a97a_9840bb33be85row5_col0\" class=\"data row5 col0\" >-0.00528</td> \n",
       "        <td id=\"T_78108300_c7d9_11e9_a97a_9840bb33be85row5_col1\" class=\"data row5 col1\" >-0.000109</td> \n",
       "        <td id=\"T_78108300_c7d9_11e9_a97a_9840bb33be85row5_col2\" class=\"data row5 col2\" >6.84e-05</td> \n",
       "        <td id=\"T_78108300_c7d9_11e9_a97a_9840bb33be85row5_col3\" class=\"data row5 col3\" >-0.000536</td> \n",
       "        <td id=\"T_78108300_c7d9_11e9_a97a_9840bb33be85row5_col4\" class=\"data row5 col4\" >0.00118</td> \n",
       "        <td id=\"T_78108300_c7d9_11e9_a97a_9840bb33be85row5_col5\" class=\"data row5 col5\" >1.0</td> \n",
       "    </tr></tbody> \n",
       "</table> "
      ],
      "text/plain": [
       "<pandas.io.formats.style.Styler at 0x2013e16b198>"
      ]
     },
     "execution_count": 51,
     "metadata": {},
     "output_type": "execute_result"
    }
   ],
   "source": [
    "df4.corr(method='pearson').style.format(\"{:.3}\").background_gradient(cmap=plt.get_cmap('coolwarm'), axis=1)"
   ]
  },
  {
   "cell_type": "code",
   "execution_count": 52,
   "metadata": {},
   "outputs": [],
   "source": [
    "df4['KWh'] = df4.KWh"
   ]
  },
  {
   "cell_type": "code",
   "execution_count": 53,
   "metadata": {},
   "outputs": [],
   "source": [
    "#sj_correlations = sj_df.corr()\n",
    "df4_correlations = df4.corr()"
   ]
  },
  {
   "cell_type": "code",
   "execution_count": 54,
   "metadata": {},
   "outputs": [],
   "source": [
    "import seaborn as sns"
   ]
  },
  {
   "cell_type": "code",
   "execution_count": 55,
   "metadata": {},
   "outputs": [
    {
     "data": {
      "text/plain": [
       "Text(0.5,1,'MAC000018 Correlations')"
      ]
     },
     "execution_count": 55,
     "metadata": {},
     "output_type": "execute_result"
    },
    {
     "data": {
      "image/png": "[encoded data removed]",
      "text/plain": [
       "<Figure size 720x432 with 2 Axes>"
      ]
     },
     "metadata": {},
     "output_type": "display_data"
    }
   ],
   "source": [
    "#correation heat map to check correlation between two attributes so we can eliminate one if required(for san juan)\n",
    "plt.rcParams['figure.figsize'] = [10, 6]\n",
    "df4_corr_heat = sns.heatmap(df4_correlations)\n",
    "plt.title('MAC000018 Correlations')"
   ]
  },
  {
   "cell_type": "code",
   "execution_count": 56,
   "metadata": {},
   "outputs": [
    {
     "data": {
      "text/html": [
       "<div>\n",
       "<style scoped>\n",
       "    .dataframe tbody tr th:only-of-type {\n",
       "        vertical-align: middle;\n",
       "    }\n",
       "\n",
       "    .dataframe tbody tr th {\n",
       "        vertical-align: top;\n",
       "    }\n",
       "\n",
       "    .dataframe thead th {\n",
       "        text-align: right;\n",
       "    }\n",
       "</style>\n",
       "<table border=\"1\" class=\"dataframe\">\n",
       "  <thead>\n",
       "    <tr style=\"text-align: right;\">\n",
       "      <th></th>\n",
       "      <th>KWh</th>\n",
       "      <th>year</th>\n",
       "      <th>month</th>\n",
       "      <th>day</th>\n",
       "      <th>hour</th>\n",
       "      <th>minute</th>\n",
       "    </tr>\n",
       "  </thead>\n",
       "  <tbody>\n",
       "    <tr>\n",
       "      <th>326612</th>\n",
       "      <td>0.303</td>\n",
       "      <td>2011</td>\n",
       "      <td>12</td>\n",
       "      <td>7</td>\n",
       "      <td>9</td>\n",
       "      <td>30</td>\n",
       "    </tr>\n",
       "    <tr>\n",
       "      <th>326613</th>\n",
       "      <td>0.200</td>\n",
       "      <td>2011</td>\n",
       "      <td>12</td>\n",
       "      <td>7</td>\n",
       "      <td>10</td>\n",
       "      <td>0</td>\n",
       "    </tr>\n",
       "    <tr>\n",
       "      <th>326614</th>\n",
       "      <td>0.218</td>\n",
       "      <td>2011</td>\n",
       "      <td>12</td>\n",
       "      <td>7</td>\n",
       "      <td>10</td>\n",
       "      <td>30</td>\n",
       "    </tr>\n",
       "    <tr>\n",
       "      <th>326615</th>\n",
       "      <td>0.209</td>\n",
       "      <td>2011</td>\n",
       "      <td>12</td>\n",
       "      <td>7</td>\n",
       "      <td>11</td>\n",
       "      <td>0</td>\n",
       "    </tr>\n",
       "    <tr>\n",
       "      <th>326616</th>\n",
       "      <td>0.210</td>\n",
       "      <td>2011</td>\n",
       "      <td>12</td>\n",
       "      <td>7</td>\n",
       "      <td>11</td>\n",
       "      <td>30</td>\n",
       "    </tr>\n",
       "  </tbody>\n",
       "</table>\n",
       "</div>"
      ],
      "text/plain": [
       "          KWh  year  month  day  hour  minute\n",
       "326612  0.303  2011     12    7     9      30\n",
       "326613  0.200  2011     12    7    10       0\n",
       "326614  0.218  2011     12    7    10      30\n",
       "326615  0.209  2011     12    7    11       0\n",
       "326616  0.210  2011     12    7    11      30"
      ]
     },
     "execution_count": 56,
     "metadata": {},
     "output_type": "execute_result"
    }
   ],
   "source": [
    "df4.head()"
   ]
  },
  {
   "cell_type": "code",
   "execution_count": 57,
   "metadata": {},
   "outputs": [
    {
     "data": {
      "text/plain": [
       "<matplotlib.axes._subplots.AxesSubplot at 0x2013fd46f98>"
      ]
     },
     "execution_count": 57,
     "metadata": {},
     "output_type": "execute_result"
    },
    {
     "data": {
      "image/png": "[encoded data removed]",
      "text/plain": [
       "<Figure size 720x432 with 1 Axes>"
      ]
     },
     "metadata": {},
     "output_type": "display_data"
    }
   ],
   "source": [
    "# correlation graph to check which class is responsible for more number of dengue(for san juan)\n",
    "plt.rcParams['figure.figsize'] = [10, 6]\n",
    "(df4_correlations\n",
    "     .KWh\n",
    "     .drop('KWh') \n",
    "     .sort_values(ascending=False)\n",
    "     .plot\n",
    "     .barh())"
   ]
  },
  {
   "cell_type": "code",
   "execution_count": 58,
   "metadata": {},
   "outputs": [
    {
     "data": {
      "text/html": [
       "<div>\n",
       "<style scoped>\n",
       "    .dataframe tbody tr th:only-of-type {\n",
       "        vertical-align: middle;\n",
       "    }\n",
       "\n",
       "    .dataframe tbody tr th {\n",
       "        vertical-align: top;\n",
       "    }\n",
       "\n",
       "    .dataframe thead th {\n",
       "        text-align: right;\n",
       "    }\n",
       "</style>\n",
       "<table border=\"1\" class=\"dataframe\">\n",
       "  <thead>\n",
       "    <tr style=\"text-align: right;\">\n",
       "      <th></th>\n",
       "      <th>KWh</th>\n",
       "      <th>year</th>\n",
       "      <th>month</th>\n",
       "      <th>day</th>\n",
       "      <th>hour</th>\n",
       "      <th>minute</th>\n",
       "    </tr>\n",
       "  </thead>\n",
       "  <tbody>\n",
       "    <tr>\n",
       "      <th>326612</th>\n",
       "      <td>0.303</td>\n",
       "      <td>2011</td>\n",
       "      <td>12</td>\n",
       "      <td>7</td>\n",
       "      <td>9</td>\n",
       "      <td>30</td>\n",
       "    </tr>\n",
       "    <tr>\n",
       "      <th>326613</th>\n",
       "      <td>0.200</td>\n",
       "      <td>2011</td>\n",
       "      <td>12</td>\n",
       "      <td>7</td>\n",
       "      <td>10</td>\n",
       "      <td>0</td>\n",
       "    </tr>\n",
       "    <tr>\n",
       "      <th>326614</th>\n",
       "      <td>0.218</td>\n",
       "      <td>2011</td>\n",
       "      <td>12</td>\n",
       "      <td>7</td>\n",
       "      <td>10</td>\n",
       "      <td>30</td>\n",
       "    </tr>\n",
       "    <tr>\n",
       "      <th>326615</th>\n",
       "      <td>0.209</td>\n",
       "      <td>2011</td>\n",
       "      <td>12</td>\n",
       "      <td>7</td>\n",
       "      <td>11</td>\n",
       "      <td>0</td>\n",
       "    </tr>\n",
       "    <tr>\n",
       "      <th>326616</th>\n",
       "      <td>0.210</td>\n",
       "      <td>2011</td>\n",
       "      <td>12</td>\n",
       "      <td>7</td>\n",
       "      <td>11</td>\n",
       "      <td>30</td>\n",
       "    </tr>\n",
       "    <tr>\n",
       "      <th>326617</th>\n",
       "      <td>0.238</td>\n",
       "      <td>2011</td>\n",
       "      <td>12</td>\n",
       "      <td>7</td>\n",
       "      <td>12</td>\n",
       "      <td>0</td>\n",
       "    </tr>\n",
       "  </tbody>\n",
       "</table>\n",
       "</div>"
      ],
      "text/plain": [
       "          KWh  year  month  day  hour  minute\n",
       "326612  0.303  2011     12    7     9      30\n",
       "326613  0.200  2011     12    7    10       0\n",
       "326614  0.218  2011     12    7    10      30\n",
       "326615  0.209  2011     12    7    11       0\n",
       "326616  0.210  2011     12    7    11      30\n",
       "326617  0.238  2011     12    7    12       0"
      ]
     },
     "execution_count": 58,
     "metadata": {},
     "output_type": "execute_result"
    }
   ],
   "source": [
    "df4.head(6)"
   ]
  },
  {
   "cell_type": "code",
   "execution_count": 59,
   "metadata": {},
   "outputs": [
    {
     "data": {
      "text/html": [
       "<div>\n",
       "<style scoped>\n",
       "    .dataframe tbody tr th:only-of-type {\n",
       "        vertical-align: middle;\n",
       "    }\n",
       "\n",
       "    .dataframe tbody tr th {\n",
       "        vertical-align: top;\n",
       "    }\n",
       "\n",
       "    .dataframe thead th {\n",
       "        text-align: right;\n",
       "    }\n",
       "</style>\n",
       "<table border=\"1\" class=\"dataframe\">\n",
       "  <thead>\n",
       "    <tr style=\"text-align: right;\">\n",
       "      <th></th>\n",
       "      <th>KWh</th>\n",
       "      <th>year</th>\n",
       "      <th>month</th>\n",
       "      <th>day</th>\n",
       "      <th>hour</th>\n",
       "      <th>minute</th>\n",
       "    </tr>\n",
       "  </thead>\n",
       "  <tbody>\n",
       "    <tr>\n",
       "      <th>365687</th>\n",
       "      <td>0.376</td>\n",
       "      <td>2014</td>\n",
       "      <td>2</td>\n",
       "      <td>27</td>\n",
       "      <td>22</td>\n",
       "      <td>0</td>\n",
       "    </tr>\n",
       "    <tr>\n",
       "      <th>365688</th>\n",
       "      <td>0.379</td>\n",
       "      <td>2014</td>\n",
       "      <td>2</td>\n",
       "      <td>27</td>\n",
       "      <td>22</td>\n",
       "      <td>30</td>\n",
       "    </tr>\n",
       "    <tr>\n",
       "      <th>365689</th>\n",
       "      <td>0.382</td>\n",
       "      <td>2014</td>\n",
       "      <td>2</td>\n",
       "      <td>27</td>\n",
       "      <td>23</td>\n",
       "      <td>0</td>\n",
       "    </tr>\n",
       "    <tr>\n",
       "      <th>365690</th>\n",
       "      <td>0.383</td>\n",
       "      <td>2014</td>\n",
       "      <td>2</td>\n",
       "      <td>27</td>\n",
       "      <td>23</td>\n",
       "      <td>30</td>\n",
       "    </tr>\n",
       "    <tr>\n",
       "      <th>365691</th>\n",
       "      <td>0.380</td>\n",
       "      <td>2014</td>\n",
       "      <td>2</td>\n",
       "      <td>28</td>\n",
       "      <td>0</td>\n",
       "      <td>0</td>\n",
       "    </tr>\n",
       "    <tr>\n",
       "      <th>365692</th>\n",
       "      <td>0.380</td>\n",
       "      <td>2014</td>\n",
       "      <td>2</td>\n",
       "      <td>28</td>\n",
       "      <td>0</td>\n",
       "      <td>0</td>\n",
       "    </tr>\n",
       "  </tbody>\n",
       "</table>\n",
       "</div>"
      ],
      "text/plain": [
       "          KWh  year  month  day  hour  minute\n",
       "365687  0.376  2014      2   27    22       0\n",
       "365688  0.379  2014      2   27    22      30\n",
       "365689  0.382  2014      2   27    23       0\n",
       "365690  0.383  2014      2   27    23      30\n",
       "365691  0.380  2014      2   28     0       0\n",
       "365692  0.380  2014      2   28     0       0"
      ]
     },
     "execution_count": 59,
     "metadata": {},
     "output_type": "execute_result"
    }
   ],
   "source": [
    "df4.tail(6)"
   ]
  },
  {
   "cell_type": "code",
   "execution_count": 60,
   "metadata": {},
   "outputs": [],
   "source": [
    "d = list(df4.hour)\n",
    "d1 = list(df2.hour)\n",
    "d2 = list(df3.hour)"
   ]
  },
  {
   "cell_type": "code",
   "execution_count": 61,
   "metadata": {},
   "outputs": [],
   "source": [
    "l = {}\n",
    "l1 = {}\n",
    "l2 = {}"
   ]
  },
  {
   "cell_type": "code",
   "execution_count": 62,
   "metadata": {},
   "outputs": [
    {
     "name": "stdout",
     "output_type": "stream",
     "text": [
      "{0: 1654, 1: 1626, 2: 1626, 3: 1626, 4: 1626, 5: 1626, 6: 1626, 7: 1626, 8: 1626, 9: 1627, 10: 1628, 11: 1628, 12: 1628, 13: 1628, 14: 1628, 15: 1628, 16: 1628, 17: 1628, 18: 1628, 19: 1628, 20: 1628, 21: 1628, 22: 1628}\n"
     ]
    }
   ],
   "source": [
    "n = 0\n",
    "for i in range(23):\n",
    "    n = d.count(i)\n",
    "    l[i] = n\n",
    "print(l)    "
   ]
  },
  {
   "cell_type": "code",
   "execution_count": 63,
   "metadata": {},
   "outputs": [
    {
     "name": "stdout",
     "output_type": "stream",
     "text": [
      "{0: 1654, 1: 1626, 2: 1626, 3: 1626, 4: 1626, 5: 1626, 6: 1626, 7: 1626, 8: 1626, 9: 1627, 10: 1628, 11: 1628, 12: 1628, 13: 1628, 14: 1628, 15: 1628, 16: 1628, 17: 1627, 18: 1628, 19: 1628, 20: 1627, 21: 1628, 22: 1628}\n"
     ]
    }
   ],
   "source": [
    "n = 0\n",
    "for i in range(23):\n",
    "    n = d1.count(i)\n",
    "    l1[i] = n\n",
    "print(l1)    "
   ]
  },
  {
   "cell_type": "code",
   "execution_count": 64,
   "metadata": {},
   "outputs": [
    {
     "name": "stdout",
     "output_type": "stream",
     "text": [
      "{0: 1654, 1: 1626, 2: 1626, 3: 1626, 4: 1626, 5: 1625, 6: 1626, 7: 1626, 8: 1626, 9: 1626, 10: 1628, 11: 1627, 12: 1628, 13: 1628, 14: 1628, 15: 1628, 16: 1628, 17: 1628, 18: 1628, 19: 1628, 20: 1628, 21: 1628, 22: 1628}\n"
     ]
    }
   ],
   "source": [
    "n = 0\n",
    "for i in range(23):\n",
    "    n = d2.count(i)\n",
    "    l2[i] = n\n",
    "print(l2)    "
   ]
  },
  {
   "cell_type": "code",
   "execution_count": 65,
   "metadata": {},
   "outputs": [
    {
     "data": {
      "text/plain": [
       "KWh       0\n",
       "year      0\n",
       "month     0\n",
       "day       0\n",
       "hour      0\n",
       "minute    0\n",
       "dtype: int64"
      ]
     },
     "execution_count": 65,
     "metadata": {},
     "output_type": "execute_result"
    }
   ],
   "source": [
    "df4.isna().sum()"
   ]
  },
  {
   "cell_type": "code",
   "execution_count": 66,
   "metadata": {},
   "outputs": [],
   "source": [
    "df4 = df4.drop(df4.index[0])"
   ]
  },
  {
   "cell_type": "code",
   "execution_count": 67,
   "metadata": {},
   "outputs": [],
   "source": [
    "d = df4.copy()"
   ]
  },
  {
   "cell_type": "code",
   "execution_count": 68,
   "metadata": {},
   "outputs": [],
   "source": [
    "d.year = d.year.astype(int)"
   ]
  },
  {
   "cell_type": "code",
   "execution_count": 69,
   "metadata": {},
   "outputs": [],
   "source": [
    "d.month = d.month.astype(int)"
   ]
  },
  {
   "cell_type": "code",
   "execution_count": 70,
   "metadata": {},
   "outputs": [],
   "source": [
    "d.hour = d.hour.astype(int)"
   ]
  },
  {
   "cell_type": "code",
   "execution_count": 71,
   "metadata": {},
   "outputs": [],
   "source": [
    "d.minute = d.minute.astype(int)"
   ]
  },
  {
   "cell_type": "code",
   "execution_count": 72,
   "metadata": {},
   "outputs": [
    {
     "data": {
      "text/plain": [
       "39080"
      ]
     },
     "execution_count": 72,
     "metadata": {},
     "output_type": "execute_result"
    }
   ],
   "source": [
    "len(d)"
   ]
  },
  {
   "cell_type": "code",
   "execution_count": 73,
   "metadata": {},
   "outputs": [
    {
     "data": {
      "text/plain": [
       "KWh       float64\n",
       "year        int32\n",
       "month       int32\n",
       "day         int64\n",
       "hour        int32\n",
       "minute      int32\n",
       "dtype: object"
      ]
     },
     "execution_count": 73,
     "metadata": {},
     "output_type": "execute_result"
    }
   ],
   "source": [
    "d.dtypes"
   ]
  },
  {
   "cell_type": "code",
   "execution_count": 74,
   "metadata": {},
   "outputs": [],
   "source": [
    "del d['KWh']"
   ]
  },
  {
   "cell_type": "code",
   "execution_count": 75,
   "metadata": {},
   "outputs": [],
   "source": [
    "d.loc[d['minute'] == 30] = 0"
   ]
  },
  {
   "cell_type": "code",
   "execution_count": 76,
   "metadata": {},
   "outputs": [
    {
     "data": {
      "text/plain": [
       "year      0\n",
       "month     0\n",
       "day       0\n",
       "hour      0\n",
       "minute    0\n",
       "dtype: int64"
      ]
     },
     "execution_count": 76,
     "metadata": {},
     "output_type": "execute_result"
    }
   ],
   "source": [
    "d.loc[d['minute'] == 30].count()"
   ]
  },
  {
   "cell_type": "code",
   "execution_count": 77,
   "metadata": {},
   "outputs": [],
   "source": [
    "d = d.astype(int)"
   ]
  },
  {
   "cell_type": "code",
   "execution_count": 78,
   "metadata": {},
   "outputs": [],
   "source": [
    "d = d.join(df4.KWh)"
   ]
  },
  {
   "cell_type": "code",
   "execution_count": 79,
   "metadata": {},
   "outputs": [],
   "source": [
    "def years(y):\n",
    "    y = y % 2000\n",
    "    return y"
   ]
  },
  {
   "cell_type": "code",
   "execution_count": 80,
   "metadata": {},
   "outputs": [],
   "source": [
    "d['year'] = years(d['year'])"
   ]
  },
  {
   "cell_type": "code",
   "execution_count": 81,
   "metadata": {},
   "outputs": [
    {
     "data": {
      "text/html": [
       "<div>\n",
       "<style scoped>\n",
       "    .dataframe tbody tr th:only-of-type {\n",
       "        vertical-align: middle;\n",
       "    }\n",
       "\n",
       "    .dataframe tbody tr th {\n",
       "        vertical-align: top;\n",
       "    }\n",
       "\n",
       "    .dataframe thead th {\n",
       "        text-align: right;\n",
       "    }\n",
       "</style>\n",
       "<table border=\"1\" class=\"dataframe\">\n",
       "  <thead>\n",
       "    <tr style=\"text-align: right;\">\n",
       "      <th></th>\n",
       "      <th>year</th>\n",
       "      <th>month</th>\n",
       "      <th>day</th>\n",
       "      <th>hour</th>\n",
       "      <th>minute</th>\n",
       "      <th>KWh</th>\n",
       "    </tr>\n",
       "  </thead>\n",
       "  <tbody>\n",
       "    <tr>\n",
       "      <th>326613</th>\n",
       "      <td>11</td>\n",
       "      <td>12</td>\n",
       "      <td>7</td>\n",
       "      <td>10</td>\n",
       "      <td>0</td>\n",
       "      <td>0.200</td>\n",
       "    </tr>\n",
       "    <tr>\n",
       "      <th>326614</th>\n",
       "      <td>0</td>\n",
       "      <td>0</td>\n",
       "      <td>0</td>\n",
       "      <td>0</td>\n",
       "      <td>0</td>\n",
       "      <td>0.218</td>\n",
       "    </tr>\n",
       "    <tr>\n",
       "      <th>326615</th>\n",
       "      <td>11</td>\n",
       "      <td>12</td>\n",
       "      <td>7</td>\n",
       "      <td>11</td>\n",
       "      <td>0</td>\n",
       "      <td>0.209</td>\n",
       "    </tr>\n",
       "    <tr>\n",
       "      <th>326616</th>\n",
       "      <td>0</td>\n",
       "      <td>0</td>\n",
       "      <td>0</td>\n",
       "      <td>0</td>\n",
       "      <td>0</td>\n",
       "      <td>0.210</td>\n",
       "    </tr>\n",
       "    <tr>\n",
       "      <th>326617</th>\n",
       "      <td>11</td>\n",
       "      <td>12</td>\n",
       "      <td>7</td>\n",
       "      <td>12</td>\n",
       "      <td>0</td>\n",
       "      <td>0.238</td>\n",
       "    </tr>\n",
       "  </tbody>\n",
       "</table>\n",
       "</div>"
      ],
      "text/plain": [
       "        year  month  day  hour  minute    KWh\n",
       "326613    11     12    7    10       0  0.200\n",
       "326614     0      0    0     0       0  0.218\n",
       "326615    11     12    7    11       0  0.209\n",
       "326616     0      0    0     0       0  0.210\n",
       "326617    11     12    7    12       0  0.238"
      ]
     },
     "execution_count": 81,
     "metadata": {},
     "output_type": "execute_result"
    }
   ],
   "source": [
    "d.head()"
   ]
  },
  {
   "cell_type": "code",
   "execution_count": 82,
   "metadata": {},
   "outputs": [],
   "source": [
    "ar = df4['minute']"
   ]
  },
  {
   "cell_type": "code",
   "execution_count": 83,
   "metadata": {},
   "outputs": [],
   "source": [
    "ar = list(ar)"
   ]
  },
  {
   "cell_type": "code",
   "execution_count": 84,
   "metadata": {},
   "outputs": [
    {
     "name": "stdout",
     "output_type": "stream",
     "text": [
      "[364, 3342, 6320, 9298, 12276, 15254, 18232, 21210, 24188, 27166, 30144, 33122, 36100, 39078]\n"
     ]
    }
   ],
   "source": [
    "array = []\n",
    "a = 0\n",
    "for i in range(len(ar)-1):\n",
    "    if a < len(ar)-1:\n",
    "        if ar[a] == ar[a+1]:\n",
    "            array.append(a)\n",
    "    a = a + 2\n",
    "print(array)"
   ]
  },
  {
   "cell_type": "code",
   "execution_count": 85,
   "metadata": {},
   "outputs": [
    {
     "data": {
      "text/plain": [
       "14"
      ]
     },
     "execution_count": 85,
     "metadata": {},
     "output_type": "execute_result"
    }
   ],
   "source": [
    "len(array)"
   ]
  },
  {
   "cell_type": "code",
   "execution_count": 86,
   "metadata": {},
   "outputs": [],
   "source": [
    "a = 0\n",
    "for i in array:\n",
    "    d = d.drop(d.index[[i-a,i+1-a]])\n",
    "    a = a + 2"
   ]
  },
  {
   "cell_type": "code",
   "execution_count": 87,
   "metadata": {},
   "outputs": [],
   "source": [
    "#def wtokw(w):\n",
    "   # w = w*1000\n",
    "   # return w"
   ]
  },
  {
   "cell_type": "code",
   "execution_count": 88,
   "metadata": {},
   "outputs": [],
   "source": [
    "#d['KWh'] = wtokw(d['KWh'])"
   ]
  },
  {
   "cell_type": "code",
   "execution_count": 90,
   "metadata": {},
   "outputs": [],
   "source": [
    "arr = d.KWh"
   ]
  },
  {
   "cell_type": "code",
   "execution_count": 91,
   "metadata": {},
   "outputs": [],
   "source": [
    "arr = list(arr)"
   ]
  },
  {
   "cell_type": "code",
   "execution_count": 92,
   "metadata": {},
   "outputs": [
    {
     "name": "stdout",
     "output_type": "stream",
     "text": [
      "[0.41800000000000004, 0.218, 0.419, 0.21, 0.677, 0.439, 1.335, 0.35200000000000004, 0.6339999999999999, 0.355, 0.475, 0.196, 0.496, 0.319, 0.86, 0.39799999999999996, 0.6499999999999999, 0.371, 0.759, 0.315, 0.6759999999999999, 0.344, 0.649, 0.256, 0.771, 0.434, 0.9180000000000001, 0.36200000000000004, 0.428, 0.134, 0.244, 0.125, 0.25, 0.12300000000000001, 0.242, 0.121, 0.242, 0.121, 0.241, 0.12, 0.245, 0.122, 0.311, 0.158, 0.558, 0.318, 0.599, 0.27399999999999997, 0.837, 0.40700000000000003, 0.9830000000000001, 0.48200000000000004, 0.933, 0.46, 1.591, 1.071, 1.168, 0.425, 0.91, 0.47700000000000004]\n"
     ]
    }
   ],
   "source": [
    "a = 0\n",
    "for i in range(len(arr)):\n",
    "    if a < len(arr)-1:\n",
    "        arr[a] = arr[a] + arr[a+1]\n",
    "        a = a + 2\n",
    "print(arr[0:60])"
   ]
  },
  {
   "cell_type": "code",
   "execution_count": 93,
   "metadata": {},
   "outputs": [
    {
     "name": "stdout",
     "output_type": "stream",
     "text": [
      "[0.41800000000000004, 0, 0.419, 0, 0.677, 0, 1.335, 0, 0.6339999999999999, 0, 0.475, 0, 0.496, 0, 0.86, 0, 0.6499999999999999, 0, 0.759, 0, 0.6759999999999999, 0, 0.649, 0, 0.771, 0, 0.9180000000000001, 0, 0.428, 0, 0.244, 0, 0.25, 0, 0.242, 0, 0.242, 0, 0.241, 0, 0.245, 0, 0.311, 0, 0.558, 0, 0.599, 0, 0.837, 0, 0.9830000000000001, 0, 0.933, 0, 1.591, 0, 1.168, 0, 0.91, 0]\n"
     ]
    }
   ],
   "source": [
    "for i in range(len(arr)):\n",
    "    if i % 2 != 0:\n",
    "        arr[i] = 0\n",
    "print(arr[0:60])"
   ]
  },
  {
   "cell_type": "code",
   "execution_count": 94,
   "metadata": {},
   "outputs": [
    {
     "data": {
      "text/plain": [
       "19526"
      ]
     },
     "execution_count": 94,
     "metadata": {},
     "output_type": "execute_result"
    }
   ],
   "source": [
    "for i in range(len(arr)):\n",
    "    if i < len(arr):\n",
    "        if arr[i] == 0:\n",
    "            arr.pop(i)\n",
    "len(arr)"
   ]
  },
  {
   "cell_type": "code",
   "execution_count": 95,
   "metadata": {},
   "outputs": [],
   "source": [
    "d.drop(d[d['year'] < 1].index, inplace = True)"
   ]
  },
  {
   "cell_type": "code",
   "execution_count": 96,
   "metadata": {},
   "outputs": [],
   "source": [
    "del d['KWh']"
   ]
  },
  {
   "cell_type": "code",
   "execution_count": 97,
   "metadata": {},
   "outputs": [],
   "source": [
    "d['KWh'] = arr"
   ]
  },
  {
   "cell_type": "code",
   "execution_count": 98,
   "metadata": {},
   "outputs": [],
   "source": [
    "del d['minute']"
   ]
  },
  {
   "cell_type": "code",
   "execution_count": 117,
   "metadata": {},
   "outputs": [
    {
     "data": {
      "text/html": [
       "<div>\n",
       "<style scoped>\n",
       "    .dataframe tbody tr th:only-of-type {\n",
       "        vertical-align: middle;\n",
       "    }\n",
       "\n",
       "    .dataframe tbody tr th {\n",
       "        vertical-align: top;\n",
       "    }\n",
       "\n",
       "    .dataframe thead th {\n",
       "        text-align: right;\n",
       "    }\n",
       "</style>\n",
       "<table border=\"1\" class=\"dataframe\">\n",
       "  <thead>\n",
       "    <tr style=\"text-align: right;\">\n",
       "      <th></th>\n",
       "      <th>year</th>\n",
       "      <th>month</th>\n",
       "      <th>day</th>\n",
       "      <th>hour</th>\n",
       "      <th>KWh</th>\n",
       "    </tr>\n",
       "  </thead>\n",
       "  <tbody>\n",
       "    <tr>\n",
       "      <th>326613</th>\n",
       "      <td>11</td>\n",
       "      <td>12</td>\n",
       "      <td>7</td>\n",
       "      <td>10</td>\n",
       "      <td>0.418</td>\n",
       "    </tr>\n",
       "    <tr>\n",
       "      <th>326615</th>\n",
       "      <td>11</td>\n",
       "      <td>12</td>\n",
       "      <td>7</td>\n",
       "      <td>11</td>\n",
       "      <td>0.419</td>\n",
       "    </tr>\n",
       "    <tr>\n",
       "      <th>326617</th>\n",
       "      <td>11</td>\n",
       "      <td>12</td>\n",
       "      <td>7</td>\n",
       "      <td>12</td>\n",
       "      <td>0.677</td>\n",
       "    </tr>\n",
       "    <tr>\n",
       "      <th>326619</th>\n",
       "      <td>11</td>\n",
       "      <td>12</td>\n",
       "      <td>7</td>\n",
       "      <td>13</td>\n",
       "      <td>1.335</td>\n",
       "    </tr>\n",
       "    <tr>\n",
       "      <th>326621</th>\n",
       "      <td>11</td>\n",
       "      <td>12</td>\n",
       "      <td>7</td>\n",
       "      <td>14</td>\n",
       "      <td>0.634</td>\n",
       "    </tr>\n",
       "  </tbody>\n",
       "</table>\n",
       "</div>"
      ],
      "text/plain": [
       "        year  month  day  hour    KWh\n",
       "326613    11     12    7    10  0.418\n",
       "326615    11     12    7    11  0.419\n",
       "326617    11     12    7    12  0.677\n",
       "326619    11     12    7    13  1.335\n",
       "326621    11     12    7    14  0.634"
      ]
     },
     "execution_count": 117,
     "metadata": {},
     "output_type": "execute_result"
    }
   ],
   "source": [
    "d.head()"
   ]
  },
  {
   "cell_type": "code",
   "execution_count": 100,
   "metadata": {},
   "outputs": [],
   "source": [
    "#train = d[0:int(len(d)*0.7)]\n",
    "#test = d[int(len(d)*0.7):]"
   ]
  },
  {
   "cell_type": "code",
   "execution_count": 101,
   "metadata": {},
   "outputs": [],
   "source": [
    "y = d['KWh'].values\n",
    "x = d.drop(['KWh'],axis=1).values"
   ]
  },
  {
   "cell_type": "code",
   "execution_count": 102,
   "metadata": {},
   "outputs": [],
   "source": [
    "from sklearn.linear_model import LinearRegression\n",
    "from sklearn import model_selection, tree, linear_model\n",
    "from sklearn.model_selection import train_test_split"
   ]
  },
  {
   "cell_type": "code",
   "execution_count": 103,
   "metadata": {},
   "outputs": [],
   "source": [
    "xTrain, xTest, yTrain, yTest = train_test_split(x, y, test_size = 0.25, random_state = 0)"
   ]
  },
  {
   "cell_type": "code",
   "execution_count": 104,
   "metadata": {},
   "outputs": [],
   "source": [
    "linearRegressor = LinearRegression()"
   ]
  },
  {
   "cell_type": "code",
   "execution_count": 105,
   "metadata": {},
   "outputs": [
    {
     "data": {
      "text/plain": [
       "LinearRegression(copy_X=True, fit_intercept=True, n_jobs=1, normalize=False)"
      ]
     },
     "execution_count": 105,
     "metadata": {},
     "output_type": "execute_result"
    }
   ],
   "source": [
    "linearRegressor.fit(xTrain, yTrain)"
   ]
  },
  {
   "cell_type": "code",
   "execution_count": 106,
   "metadata": {},
   "outputs": [],
   "source": [
    "yPrediction = linearRegressor.predict(xTest)"
   ]
  },
  {
   "cell_type": "code",
   "execution_count": 108,
   "metadata": {},
   "outputs": [
    {
     "name": "stdout",
     "output_type": "stream",
     "text": [
      "Mean Absolute Error: 0.2077735478727534\n",
      "Mean Squared Error: 0.10502197216183812\n",
      "Root Mean Squared Error: 0.32407093692868866\n"
     ]
    }
   ],
   "source": [
    "import sklearn.metrics as metrics\n",
    "print('Mean Absolute Error:', metrics.mean_absolute_error(yTest, yPrediction))  \n",
    "print('Mean Squared Error:', metrics.mean_squared_error(yTest, yPrediction))  \n",
    "print('Root Mean Squared Error:', np.sqrt(metrics.mean_squared_error(yTest, yPrediction)))"
   ]
  },
  {
   "cell_type": "code",
   "execution_count": 115,
   "metadata": {},
   "outputs": [
    {
     "data": {
      "text/plain": [
       "Text(0,0.5,'Predictions')"
      ]
     },
     "execution_count": 115,
     "metadata": {},
     "output_type": "execute_result"
    },
    {
     "data": {
      "image/png": "[encoded data removed]",
      "text/plain": [
       "<Figure size 720x432 with 1 Axes>"
      ]
     },
     "metadata": {},
     "output_type": "display_data"
    }
   ],
   "source": [
    "plt.scatter(yTest, yPrediction)\n",
    "plt.xlabel(\"True Values\")\n",
    "plt.ylabel(\"Predictions\")"
   ]
  },
  {
   "cell_type": "code",
   "execution_count": 118,
   "metadata": {},
   "outputs": [
    {
     "data": {
      "text/plain": [
       "[<matplotlib.lines.Line2D at 0x2014098b3c8>]"
      ]
     },
     "execution_count": 118,
     "metadata": {},
     "output_type": "execute_result"
    },
    {
     "data": {
      "image/png": "[encoded data removed]",
      "text/plain": [
       "<Figure size 720x432 with 1 Axes>"
      ]
     },
     "metadata": {},
     "output_type": "display_data"
    }
   ],
   "source": [
    "plt.plot(yTest)\n",
    "plt.plot(yPrediction,color='red')"
   ]
  },
  {
   "cell_type": "code",
   "execution_count": 119,
   "metadata": {},
   "outputs": [
    {
     "ename": "ImportError",
     "evalue": "DLL load failed: The paging file is too small for this operation to complete.",
     "output_type": "error",
     "traceback": [
      "\u001b[1;31m---------------------------------------------------------------------------\u001b[0m",
      "\u001b[1;31mImportError\u001b[0m                               Traceback (most recent call last)",
      "\u001b[1;32m<ipython-input-119-ca8618bb8e4a>\u001b[0m in \u001b[0;36m<module>\u001b[1;34m()\u001b[0m\n\u001b[1;32m----> 1\u001b[1;33m \u001b[1;32mimport\u001b[0m \u001b[0mpystan\u001b[0m\u001b[1;33m\u001b[0m\u001b[0m\n\u001b[0m",
      "\u001b[1;32mE:\\Anaconda3\\lib\\site-packages\\pystan\\__init__.py\u001b[0m in \u001b[0;36m<module>\u001b[1;34m()\u001b[0m\n\u001b[0;32m      7\u001b[0m \u001b[1;32mimport\u001b[0m \u001b[0mlogging\u001b[0m\u001b[1;33m\u001b[0m\u001b[0m\n\u001b[0;32m      8\u001b[0m \u001b[1;33m\u001b[0m\u001b[0m\n\u001b[1;32m----> 9\u001b[1;33m \u001b[1;32mfrom\u001b[0m \u001b[0mpystan\u001b[0m\u001b[1;33m.\u001b[0m\u001b[0mapi\u001b[0m \u001b[1;32mimport\u001b[0m \u001b[0mstanc\u001b[0m\u001b[1;33m,\u001b[0m \u001b[0mstan\u001b[0m\u001b[1;33m\u001b[0m\u001b[0m\n\u001b[0m\u001b[0;32m     10\u001b[0m \u001b[1;32mfrom\u001b[0m \u001b[0mpystan\u001b[0m\u001b[1;33m.\u001b[0m\u001b[0mmisc\u001b[0m \u001b[1;32mimport\u001b[0m \u001b[0mread_rdump\u001b[0m\u001b[1;33m,\u001b[0m \u001b[0mstan_rdump\u001b[0m\u001b[1;33m,\u001b[0m \u001b[0mstansummary\u001b[0m\u001b[1;33m\u001b[0m\u001b[0m\n\u001b[0;32m     11\u001b[0m \u001b[1;32mfrom\u001b[0m \u001b[0mpystan\u001b[0m\u001b[1;33m.\u001b[0m\u001b[0mdiagnostics\u001b[0m \u001b[1;32mimport\u001b[0m \u001b[0mcheck_hmc_diagnostics\u001b[0m\u001b[1;33m\u001b[0m\u001b[0m\n",
      "\u001b[1;32mE:\\Anaconda3\\lib\\site-packages\\pystan\\api.py\u001b[0m in \u001b[0;36m<module>\u001b[1;34m()\u001b[0m\n\u001b[0;32m     11\u001b[0m \u001b[1;32mimport\u001b[0m \u001b[0mos\u001b[0m\u001b[1;33m\u001b[0m\u001b[0m\n\u001b[0;32m     12\u001b[0m \u001b[1;33m\u001b[0m\u001b[0m\n\u001b[1;32m---> 13\u001b[1;33m \u001b[1;32mimport\u001b[0m \u001b[0mpystan\u001b[0m\u001b[1;33m.\u001b[0m\u001b[0m_api\u001b[0m  \u001b[1;31m# stanc wrapper\u001b[0m\u001b[1;33m\u001b[0m\u001b[0m\n\u001b[0m\u001b[0;32m     14\u001b[0m \u001b[1;32mfrom\u001b[0m \u001b[0mpystan\u001b[0m\u001b[1;33m.\u001b[0m\u001b[0m_compat\u001b[0m \u001b[1;32mimport\u001b[0m \u001b[0mstring_types\u001b[0m\u001b[1;33m,\u001b[0m \u001b[0mPY2\u001b[0m\u001b[1;33m\u001b[0m\u001b[0m\n\u001b[0;32m     15\u001b[0m \u001b[1;32mfrom\u001b[0m \u001b[0mpystan\u001b[0m\u001b[1;33m.\u001b[0m\u001b[0mmodel\u001b[0m \u001b[1;32mimport\u001b[0m \u001b[0mStanModel\u001b[0m\u001b[1;33m\u001b[0m\u001b[0m\n",
      "\u001b[1;31mImportError\u001b[0m: DLL load failed: The paging file is too small for this operation to complete."
     ]
    }
   ],
   "source": [
    "import pystan"
   ]
  },
  {
   "cell_type": "code",
   "execution_count": null,
   "metadata": {},
   "outputs": [],
   "source": []
  }
 ],
 "metadata": {
  "kernelspec": {
   "display_name": "Python 3",
   "language": "python",
   "name": "python3"
  },
  "language_info": {
   "codemirror_mode": {
    "name": "ipython",
    "version": 3
   },
   "file_extension": ".py",
   "mimetype": "text/x-python",
   "name": "python",
   "nbconvert_exporter": "python",
   "pygments_lexer": "ipython3",
   "version": "3.6.5"
  }
 },
 "nbformat": 4,
 "nbformat_minor": 2
}
