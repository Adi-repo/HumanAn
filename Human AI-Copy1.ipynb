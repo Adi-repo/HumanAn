{
 "cells": [
  {
   "cell_type": "code",
   "execution_count": 1,
   "metadata": {},
   "outputs": [],
   "source": [
    "import pandas as pd"
   ]
  },
  {
   "cell_type": "code",
   "execution_count": 2,
   "metadata": {},
   "outputs": [],
   "source": [
    "data = pd.read_csv(\"C:/Users/ADITYA/Desktop/TCS/Power-Networks-LCL.csv\")"
   ]
  },
  {
   "cell_type": "code",
   "execution_count": 3,
   "metadata": {},
   "outputs": [
    {
     "data": {
      "text/html": [
       "<div>\n",
       "<style scoped>\n",
       "    .dataframe tbody tr th:only-of-type {\n",
       "        vertical-align: middle;\n",
       "    }\n",
       "\n",
       "    .dataframe tbody tr th {\n",
       "        vertical-align: top;\n",
       "    }\n",
       "\n",
       "    .dataframe thead th {\n",
       "        text-align: right;\n",
       "    }\n",
       "</style>\n",
       "<table border=\"1\" class=\"dataframe\">\n",
       "  <thead>\n",
       "    <tr style=\"text-align: right;\">\n",
       "      <th></th>\n",
       "      <th>LCLid</th>\n",
       "      <th>stdorToU</th>\n",
       "      <th>DateTime</th>\n",
       "      <th>KWh</th>\n",
       "      <th>Acorn</th>\n",
       "      <th>Acorn_grouped</th>\n",
       "    </tr>\n",
       "  </thead>\n",
       "  <tbody>\n",
       "    <tr>\n",
       "      <th>326612</th>\n",
       "      <td>MAC000018</td>\n",
       "      <td>Std</td>\n",
       "      <td>2011-12-07 09:30:00.0000000</td>\n",
       "      <td>0.303</td>\n",
       "      <td>ACORN-E</td>\n",
       "      <td>Affluent</td>\n",
       "    </tr>\n",
       "    <tr>\n",
       "      <th>326613</th>\n",
       "      <td>MAC000018</td>\n",
       "      <td>Std</td>\n",
       "      <td>2011-12-07 10:00:00.0000000</td>\n",
       "      <td>0.200</td>\n",
       "      <td>ACORN-E</td>\n",
       "      <td>Affluent</td>\n",
       "    </tr>\n",
       "    <tr>\n",
       "      <th>326614</th>\n",
       "      <td>MAC000018</td>\n",
       "      <td>Std</td>\n",
       "      <td>2011-12-07 10:30:00.0000000</td>\n",
       "      <td>0.218</td>\n",
       "      <td>ACORN-E</td>\n",
       "      <td>Affluent</td>\n",
       "    </tr>\n",
       "    <tr>\n",
       "      <th>326615</th>\n",
       "      <td>MAC000018</td>\n",
       "      <td>Std</td>\n",
       "      <td>2011-12-07 11:00:00.0000000</td>\n",
       "      <td>0.209</td>\n",
       "      <td>ACORN-E</td>\n",
       "      <td>Affluent</td>\n",
       "    </tr>\n",
       "    <tr>\n",
       "      <th>326616</th>\n",
       "      <td>MAC000018</td>\n",
       "      <td>Std</td>\n",
       "      <td>2011-12-07 11:30:00.0000000</td>\n",
       "      <td>0.210</td>\n",
       "      <td>ACORN-E</td>\n",
       "      <td>Affluent</td>\n",
       "    </tr>\n",
       "    <tr>\n",
       "      <th>326617</th>\n",
       "      <td>MAC000018</td>\n",
       "      <td>Std</td>\n",
       "      <td>2011-12-07 12:00:00.0000000</td>\n",
       "      <td>0.238</td>\n",
       "      <td>ACORN-E</td>\n",
       "      <td>Affluent</td>\n",
       "    </tr>\n",
       "    <tr>\n",
       "      <th>326618</th>\n",
       "      <td>MAC000018</td>\n",
       "      <td>Std</td>\n",
       "      <td>2011-12-07 12:30:00.0000000</td>\n",
       "      <td>0.439</td>\n",
       "      <td>ACORN-E</td>\n",
       "      <td>Affluent</td>\n",
       "    </tr>\n",
       "    <tr>\n",
       "      <th>326619</th>\n",
       "      <td>MAC000018</td>\n",
       "      <td>Std</td>\n",
       "      <td>2011-12-07 13:00:00.0000000</td>\n",
       "      <td>0.983</td>\n",
       "      <td>ACORN-E</td>\n",
       "      <td>Affluent</td>\n",
       "    </tr>\n",
       "    <tr>\n",
       "      <th>326620</th>\n",
       "      <td>MAC000018</td>\n",
       "      <td>Std</td>\n",
       "      <td>2011-12-07 13:30:00.0000000</td>\n",
       "      <td>0.352</td>\n",
       "      <td>ACORN-E</td>\n",
       "      <td>Affluent</td>\n",
       "    </tr>\n",
       "    <tr>\n",
       "      <th>326621</th>\n",
       "      <td>MAC000018</td>\n",
       "      <td>Std</td>\n",
       "      <td>2011-12-07 14:00:00.0000000</td>\n",
       "      <td>0.279</td>\n",
       "      <td>ACORN-E</td>\n",
       "      <td>Affluent</td>\n",
       "    </tr>\n",
       "  </tbody>\n",
       "</table>\n",
       "</div>"
      ],
      "text/plain": [
       "            LCLid stdorToU                     DateTime    KWh    Acorn  \\\n",
       "326612  MAC000018      Std  2011-12-07 09:30:00.0000000  0.303  ACORN-E   \n",
       "326613  MAC000018      Std  2011-12-07 10:00:00.0000000  0.200  ACORN-E   \n",
       "326614  MAC000018      Std  2011-12-07 10:30:00.0000000  0.218  ACORN-E   \n",
       "326615  MAC000018      Std  2011-12-07 11:00:00.0000000  0.209  ACORN-E   \n",
       "326616  MAC000018      Std  2011-12-07 11:30:00.0000000  0.210  ACORN-E   \n",
       "326617  MAC000018      Std  2011-12-07 12:00:00.0000000  0.238  ACORN-E   \n",
       "326618  MAC000018      Std  2011-12-07 12:30:00.0000000  0.439  ACORN-E   \n",
       "326619  MAC000018      Std  2011-12-07 13:00:00.0000000  0.983  ACORN-E   \n",
       "326620  MAC000018      Std  2011-12-07 13:30:00.0000000  0.352  ACORN-E   \n",
       "326621  MAC000018      Std  2011-12-07 14:00:00.0000000  0.279  ACORN-E   \n",
       "\n",
       "       Acorn_grouped  \n",
       "326612      Affluent  \n",
       "326613      Affluent  \n",
       "326614      Affluent  \n",
       "326615      Affluent  \n",
       "326616      Affluent  \n",
       "326617      Affluent  \n",
       "326618      Affluent  \n",
       "326619      Affluent  \n",
       "326620      Affluent  \n",
       "326621      Affluent  "
      ]
     },
     "execution_count": 3,
     "metadata": {},
     "output_type": "execute_result"
    }
   ],
   "source": [
    "data[data.LCLid == 'MAC000018'].head(10)"
   ]
  },
  {
   "cell_type": "code",
   "execution_count": 4,
   "metadata": {},
   "outputs": [
    {
     "data": {
      "text/plain": [
       "30"
      ]
     },
     "execution_count": 4,
     "metadata": {},
     "output_type": "execute_result"
    }
   ],
   "source": [
    "len(data['LCLid'].unique().tolist())"
   ]
  },
  {
   "cell_type": "code",
   "execution_count": 5,
   "metadata": {},
   "outputs": [],
   "source": [
    "ar = []\n",
    "for i in data['LCLid']:\n",
    "    if i not in ar:\n",
    "        ar.append(i)"
   ]
  },
  {
   "cell_type": "code",
   "execution_count": 6,
   "metadata": {},
   "outputs": [
    {
     "data": {
      "text/plain": [
       "39069"
      ]
     },
     "execution_count": 6,
     "metadata": {},
     "output_type": "execute_result"
    }
   ],
   "source": [
    "data[data.LCLid == \"MAC000034\"].shape[0]"
   ]
  },
  {
   "cell_type": "code",
   "execution_count": 7,
   "metadata": {},
   "outputs": [],
   "source": [
    "arr = []\n",
    "for i in ar:\n",
    "    arr.append(data[data.LCLid == i].shape[0])"
   ]
  },
  {
   "cell_type": "code",
   "execution_count": 8,
   "metadata": {},
   "outputs": [],
   "source": [
    "number = []\n",
    "for i in arr:\n",
    "    number.append(int(i))"
   ]
  },
  {
   "cell_type": "code",
   "execution_count": 9,
   "metadata": {},
   "outputs": [
    {
     "data": {
      "text/plain": [
       "array([24157, 35468, 31676, 36460, 25045, 26012, 25237, 25048, 23704,\n",
       "       24669, 29613, 19523, 39081, 39070, 39078, 39078, 39071, 39068,\n",
       "       39026, 39064, 39064, 39068, 32157, 39063, 39066, 39068, 39070,\n",
       "       39069, 39023, 16175])"
      ]
     },
     "execution_count": 9,
     "metadata": {},
     "output_type": "execute_result"
    }
   ],
   "source": [
    "import numpy as np\n",
    "np.array(number)"
   ]
  },
  {
   "cell_type": "code",
   "execution_count": 10,
   "metadata": {},
   "outputs": [
    {
     "data": {
      "text/plain": [
       "array([24157, 35468, 31676, 36460, 25045, 26012, 25237, 25048, 23704,\n",
       "       24669, 29613, 19523, 39081, 39070, 39078, 39078, 39071, 39068,\n",
       "       39026, 39064, 39064, 39068, 32157, 39063, 39066, 39068, 39070,\n",
       "       39069, 39023, 16175])"
      ]
     },
     "execution_count": 10,
     "metadata": {},
     "output_type": "execute_result"
    }
   ],
   "source": [
    "import numpy as np\n",
    "np.array(arr)"
   ]
  },
  {
   "cell_type": "code",
   "execution_count": 11,
   "metadata": {},
   "outputs": [],
   "source": [
    "ids = []\n",
    "num = [12,14,15]\n",
    "for i in num:\n",
    "    ids.append(ar[i])"
   ]
  },
  {
   "cell_type": "code",
   "execution_count": 12,
   "metadata": {},
   "outputs": [
    {
     "data": {
      "text/plain": [
       "['MAC000018', 'MAC000020', 'MAC000021']"
      ]
     },
     "execution_count": 12,
     "metadata": {},
     "output_type": "execute_result"
    }
   ],
   "source": [
    "ids"
   ]
  },
  {
   "cell_type": "code",
   "execution_count": 13,
   "metadata": {},
   "outputs": [
    {
     "name": "stdout",
     "output_type": "stream",
     "text": [
      "LCLid            39081\n",
      "stdorToU         39081\n",
      "DateTime         39081\n",
      "KWh              39081\n",
      "Acorn            39081\n",
      "Acorn_grouped    39081\n",
      "dtype: int64\n",
      "LCLid            39078\n",
      "stdorToU         39078\n",
      "DateTime         39078\n",
      "KWh              39078\n",
      "Acorn            39078\n",
      "Acorn_grouped    39078\n",
      "dtype: int64\n",
      "LCLid            39078\n",
      "stdorToU         39078\n",
      "DateTime         39078\n",
      "KWh              39078\n",
      "Acorn            39078\n",
      "Acorn_grouped    39078\n",
      "dtype: int64\n"
     ]
    }
   ],
   "source": [
    "for i in ids:\n",
    "    print(data[data.LCLid == i].count())"
   ]
  },
  {
   "cell_type": "code",
   "execution_count": 14,
   "metadata": {},
   "outputs": [],
   "source": [
    "df = data['LCLid']"
   ]
  },
  {
   "cell_type": "code",
   "execution_count": 15,
   "metadata": {},
   "outputs": [],
   "source": [
    "df = list(df)"
   ]
  },
  {
   "cell_type": "code",
   "execution_count": 16,
   "metadata": {},
   "outputs": [
    {
     "data": {
      "text/plain": [
       "326612"
      ]
     },
     "execution_count": 16,
     "metadata": {},
     "output_type": "execute_result"
    }
   ],
   "source": [
    "df.index('MAC000018')"
   ]
  },
  {
   "cell_type": "code",
   "execution_count": 17,
   "metadata": {},
   "outputs": [
    {
     "data": {
      "text/plain": [
       "404763"
      ]
     },
     "execution_count": 17,
     "metadata": {},
     "output_type": "execute_result"
    }
   ],
   "source": [
    "df.index('MAC000020')"
   ]
  },
  {
   "cell_type": "code",
   "execution_count": 18,
   "metadata": {},
   "outputs": [
    {
     "data": {
      "text/plain": [
       "443841"
      ]
     },
     "execution_count": 18,
     "metadata": {},
     "output_type": "execute_result"
    }
   ],
   "source": [
    "df.index('MAC000021')"
   ]
  },
  {
   "cell_type": "code",
   "execution_count": 19,
   "metadata": {},
   "outputs": [],
   "source": [
    "df_new = data.copy()"
   ]
  },
  {
   "cell_type": "code",
   "execution_count": 20,
   "metadata": {},
   "outputs": [],
   "source": [
    "df1 = df_new[326612:326612+39081]"
   ]
  },
  {
   "cell_type": "code",
   "execution_count": 21,
   "metadata": {},
   "outputs": [],
   "source": [
    "df2 = df_new[404763:404763+39078]"
   ]
  },
  {
   "cell_type": "code",
   "execution_count": 22,
   "metadata": {},
   "outputs": [],
   "source": [
    "df3 = df_new[443841:443841+39078]"
   ]
  },
  {
   "cell_type": "code",
   "execution_count": 23,
   "metadata": {},
   "outputs": [
    {
     "data": {
      "text/plain": [
       "array(['ACORN-E'], dtype=object)"
      ]
     },
     "execution_count": 23,
     "metadata": {},
     "output_type": "execute_result"
    }
   ],
   "source": [
    "df3['Acorn'].unique()"
   ]
  },
  {
   "cell_type": "code",
   "execution_count": 24,
   "metadata": {},
   "outputs": [
    {
     "data": {
      "text/plain": [
       "array(['Affluent'], dtype=object)"
      ]
     },
     "execution_count": 24,
     "metadata": {},
     "output_type": "execute_result"
    }
   ],
   "source": [
    "df3['Acorn_grouped'].unique()"
   ]
  },
  {
   "cell_type": "code",
   "execution_count": 25,
   "metadata": {},
   "outputs": [
    {
     "data": {
      "text/plain": [
       "array(['ACORN-J'], dtype=object)"
      ]
     },
     "execution_count": 25,
     "metadata": {},
     "output_type": "execute_result"
    }
   ],
   "source": [
    "df2['Acorn'].unique()"
   ]
  },
  {
   "cell_type": "code",
   "execution_count": 26,
   "metadata": {},
   "outputs": [
    {
     "data": {
      "text/plain": [
       "array(['Comfortable'], dtype=object)"
      ]
     },
     "execution_count": 26,
     "metadata": {},
     "output_type": "execute_result"
    }
   ],
   "source": [
    "df2['Acorn_grouped'].unique()"
   ]
  },
  {
   "cell_type": "code",
   "execution_count": 27,
   "metadata": {},
   "outputs": [
    {
     "data": {
      "text/plain": [
       "array(['ACORN-E'], dtype=object)"
      ]
     },
     "execution_count": 27,
     "metadata": {},
     "output_type": "execute_result"
    }
   ],
   "source": [
    "df1['Acorn'].unique()"
   ]
  },
  {
   "cell_type": "code",
   "execution_count": 28,
   "metadata": {},
   "outputs": [
    {
     "data": {
      "text/plain": [
       "array(['Affluent'], dtype=object)"
      ]
     },
     "execution_count": 28,
     "metadata": {},
     "output_type": "execute_result"
    }
   ],
   "source": [
    "df1['Acorn_grouped'].unique()"
   ]
  },
  {
   "cell_type": "code",
   "execution_count": 29,
   "metadata": {},
   "outputs": [
    {
     "data": {
      "text/html": [
       "<div>\n",
       "<style scoped>\n",
       "    .dataframe tbody tr th:only-of-type {\n",
       "        vertical-align: middle;\n",
       "    }\n",
       "\n",
       "    .dataframe tbody tr th {\n",
       "        vertical-align: top;\n",
       "    }\n",
       "\n",
       "    .dataframe thead th {\n",
       "        text-align: right;\n",
       "    }\n",
       "</style>\n",
       "<table border=\"1\" class=\"dataframe\">\n",
       "  <thead>\n",
       "    <tr style=\"text-align: right;\">\n",
       "      <th></th>\n",
       "      <th>LCLid</th>\n",
       "      <th>stdorToU</th>\n",
       "      <th>DateTime</th>\n",
       "      <th>KWh</th>\n",
       "      <th>Acorn</th>\n",
       "      <th>Acorn_grouped</th>\n",
       "    </tr>\n",
       "  </thead>\n",
       "  <tbody>\n",
       "    <tr>\n",
       "      <th>326612</th>\n",
       "      <td>MAC000018</td>\n",
       "      <td>Std</td>\n",
       "      <td>2011-12-07 09:30:00.0000000</td>\n",
       "      <td>0.303</td>\n",
       "      <td>ACORN-E</td>\n",
       "      <td>Affluent</td>\n",
       "    </tr>\n",
       "    <tr>\n",
       "      <th>326613</th>\n",
       "      <td>MAC000018</td>\n",
       "      <td>Std</td>\n",
       "      <td>2011-12-07 10:00:00.0000000</td>\n",
       "      <td>0.200</td>\n",
       "      <td>ACORN-E</td>\n",
       "      <td>Affluent</td>\n",
       "    </tr>\n",
       "    <tr>\n",
       "      <th>326614</th>\n",
       "      <td>MAC000018</td>\n",
       "      <td>Std</td>\n",
       "      <td>2011-12-07 10:30:00.0000000</td>\n",
       "      <td>0.218</td>\n",
       "      <td>ACORN-E</td>\n",
       "      <td>Affluent</td>\n",
       "    </tr>\n",
       "    <tr>\n",
       "      <th>326615</th>\n",
       "      <td>MAC000018</td>\n",
       "      <td>Std</td>\n",
       "      <td>2011-12-07 11:00:00.0000000</td>\n",
       "      <td>0.209</td>\n",
       "      <td>ACORN-E</td>\n",
       "      <td>Affluent</td>\n",
       "    </tr>\n",
       "    <tr>\n",
       "      <th>326616</th>\n",
       "      <td>MAC000018</td>\n",
       "      <td>Std</td>\n",
       "      <td>2011-12-07 11:30:00.0000000</td>\n",
       "      <td>0.210</td>\n",
       "      <td>ACORN-E</td>\n",
       "      <td>Affluent</td>\n",
       "    </tr>\n",
       "  </tbody>\n",
       "</table>\n",
       "</div>"
      ],
      "text/plain": [
       "            LCLid stdorToU                     DateTime    KWh    Acorn  \\\n",
       "326612  MAC000018      Std  2011-12-07 09:30:00.0000000  0.303  ACORN-E   \n",
       "326613  MAC000018      Std  2011-12-07 10:00:00.0000000  0.200  ACORN-E   \n",
       "326614  MAC000018      Std  2011-12-07 10:30:00.0000000  0.218  ACORN-E   \n",
       "326615  MAC000018      Std  2011-12-07 11:00:00.0000000  0.209  ACORN-E   \n",
       "326616  MAC000018      Std  2011-12-07 11:30:00.0000000  0.210  ACORN-E   \n",
       "\n",
       "       Acorn_grouped  \n",
       "326612      Affluent  \n",
       "326613      Affluent  \n",
       "326614      Affluent  \n",
       "326615      Affluent  \n",
       "326616      Affluent  "
      ]
     },
     "execution_count": 29,
     "metadata": {},
     "output_type": "execute_result"
    }
   ],
   "source": [
    "df1.head()"
   ]
  },
  {
   "cell_type": "code",
   "execution_count": 30,
   "metadata": {},
   "outputs": [
    {
     "data": {
      "text/plain": [
       "365688    2014-02-27 22:30:00.0000000\n",
       "365689    2014-02-27 23:00:00.0000000\n",
       "365690    2014-02-27 23:30:00.0000000\n",
       "365691    2014-02-28 00:00:00.0000000\n",
       "365692    2014-02-28 00:00:00.0000000\n",
       "Name: DateTime, dtype: object"
      ]
     },
     "execution_count": 30,
     "metadata": {},
     "output_type": "execute_result"
    }
   ],
   "source": [
    "df1['DateTime'][-5:]"
   ]
  },
  {
   "cell_type": "markdown",
   "metadata": {},
   "source": [
    "- To convert string into integer"
   ]
  },
  {
   "cell_type": "code",
   "execution_count": 31,
   "metadata": {},
   "outputs": [],
   "source": [
    "#pd.factorize(df4.LCLid)[0]"
   ]
  },
  {
   "cell_type": "code",
   "execution_count": 32,
   "metadata": {},
   "outputs": [],
   "source": [
    "df4 = df1.copy()"
   ]
  },
  {
   "cell_type": "code",
   "execution_count": 33,
   "metadata": {},
   "outputs": [],
   "source": [
    "del df4['stdorToU']\n",
    "del df4['Acorn']\n",
    "del df4['Acorn_grouped']\n",
    "del df4['LCLid']"
   ]
  },
  {
   "cell_type": "code",
   "execution_count": 34,
   "metadata": {},
   "outputs": [
    {
     "data": {
      "text/html": [
       "<div>\n",
       "<style scoped>\n",
       "    .dataframe tbody tr th:only-of-type {\n",
       "        vertical-align: middle;\n",
       "    }\n",
       "\n",
       "    .dataframe tbody tr th {\n",
       "        vertical-align: top;\n",
       "    }\n",
       "\n",
       "    .dataframe thead th {\n",
       "        text-align: right;\n",
       "    }\n",
       "</style>\n",
       "<table border=\"1\" class=\"dataframe\">\n",
       "  <thead>\n",
       "    <tr style=\"text-align: right;\">\n",
       "      <th></th>\n",
       "      <th>DateTime</th>\n",
       "      <th>KWh</th>\n",
       "    </tr>\n",
       "  </thead>\n",
       "  <tbody>\n",
       "    <tr>\n",
       "      <th>326612</th>\n",
       "      <td>2011-12-07 09:30:00.0000000</td>\n",
       "      <td>0.303</td>\n",
       "    </tr>\n",
       "    <tr>\n",
       "      <th>326613</th>\n",
       "      <td>2011-12-07 10:00:00.0000000</td>\n",
       "      <td>0.200</td>\n",
       "    </tr>\n",
       "    <tr>\n",
       "      <th>326614</th>\n",
       "      <td>2011-12-07 10:30:00.0000000</td>\n",
       "      <td>0.218</td>\n",
       "    </tr>\n",
       "    <tr>\n",
       "      <th>326615</th>\n",
       "      <td>2011-12-07 11:00:00.0000000</td>\n",
       "      <td>0.209</td>\n",
       "    </tr>\n",
       "    <tr>\n",
       "      <th>326616</th>\n",
       "      <td>2011-12-07 11:30:00.0000000</td>\n",
       "      <td>0.210</td>\n",
       "    </tr>\n",
       "  </tbody>\n",
       "</table>\n",
       "</div>"
      ],
      "text/plain": [
       "                           DateTime    KWh\n",
       "326612  2011-12-07 09:30:00.0000000  0.303\n",
       "326613  2011-12-07 10:00:00.0000000  0.200\n",
       "326614  2011-12-07 10:30:00.0000000  0.218\n",
       "326615  2011-12-07 11:00:00.0000000  0.209\n",
       "326616  2011-12-07 11:30:00.0000000  0.210"
      ]
     },
     "execution_count": 34,
     "metadata": {},
     "output_type": "execute_result"
    }
   ],
   "source": [
    "df4.head()"
   ]
  },
  {
   "cell_type": "code",
   "execution_count": 35,
   "metadata": {},
   "outputs": [],
   "source": [
    "#def kwtow(w):\n",
    "#    w = w*1000\n",
    "#    return w"
   ]
  },
  {
   "cell_type": "code",
   "execution_count": 36,
   "metadata": {},
   "outputs": [],
   "source": [
    "#df4['KWh'] = kwtow(df4['KWh'])"
   ]
  },
  {
   "cell_type": "code",
   "execution_count": 37,
   "metadata": {},
   "outputs": [],
   "source": [
    "#df4['KWh'] = df4['KWh'].astype(int)"
   ]
  },
  {
   "cell_type": "code",
   "execution_count": 38,
   "metadata": {},
   "outputs": [],
   "source": [
    "ids = []\n",
    "for i in range(len(df4)):\n",
    "    ids.append(i)"
   ]
  },
  {
   "cell_type": "code",
   "execution_count": 39,
   "metadata": {},
   "outputs": [],
   "source": [
    "df4['id'] = ids"
   ]
  },
  {
   "cell_type": "code",
   "execution_count": 40,
   "metadata": {},
   "outputs": [
    {
     "data": {
      "text/html": [
       "<div>\n",
       "<style scoped>\n",
       "    .dataframe tbody tr th:only-of-type {\n",
       "        vertical-align: middle;\n",
       "    }\n",
       "\n",
       "    .dataframe tbody tr th {\n",
       "        vertical-align: top;\n",
       "    }\n",
       "\n",
       "    .dataframe thead th {\n",
       "        text-align: right;\n",
       "    }\n",
       "</style>\n",
       "<table border=\"1\" class=\"dataframe\">\n",
       "  <thead>\n",
       "    <tr style=\"text-align: right;\">\n",
       "      <th></th>\n",
       "      <th>DateTime</th>\n",
       "      <th>KWh</th>\n",
       "      <th>id</th>\n",
       "    </tr>\n",
       "  </thead>\n",
       "  <tbody>\n",
       "    <tr>\n",
       "      <th>365688</th>\n",
       "      <td>2014-02-27 22:30:00.0000000</td>\n",
       "      <td>0.379</td>\n",
       "      <td>39076</td>\n",
       "    </tr>\n",
       "    <tr>\n",
       "      <th>365689</th>\n",
       "      <td>2014-02-27 23:00:00.0000000</td>\n",
       "      <td>0.382</td>\n",
       "      <td>39077</td>\n",
       "    </tr>\n",
       "    <tr>\n",
       "      <th>365690</th>\n",
       "      <td>2014-02-27 23:30:00.0000000</td>\n",
       "      <td>0.383</td>\n",
       "      <td>39078</td>\n",
       "    </tr>\n",
       "    <tr>\n",
       "      <th>365691</th>\n",
       "      <td>2014-02-28 00:00:00.0000000</td>\n",
       "      <td>0.380</td>\n",
       "      <td>39079</td>\n",
       "    </tr>\n",
       "    <tr>\n",
       "      <th>365692</th>\n",
       "      <td>2014-02-28 00:00:00.0000000</td>\n",
       "      <td>0.380</td>\n",
       "      <td>39080</td>\n",
       "    </tr>\n",
       "  </tbody>\n",
       "</table>\n",
       "</div>"
      ],
      "text/plain": [
       "                           DateTime    KWh     id\n",
       "365688  2014-02-27 22:30:00.0000000  0.379  39076\n",
       "365689  2014-02-27 23:00:00.0000000  0.382  39077\n",
       "365690  2014-02-27 23:30:00.0000000  0.383  39078\n",
       "365691  2014-02-28 00:00:00.0000000  0.380  39079\n",
       "365692  2014-02-28 00:00:00.0000000  0.380  39080"
      ]
     },
     "execution_count": 40,
     "metadata": {},
     "output_type": "execute_result"
    }
   ],
   "source": [
    "df4.tail()"
   ]
  },
  {
   "cell_type": "code",
   "execution_count": 41,
   "metadata": {},
   "outputs": [
    {
     "name": "stderr",
     "output_type": "stream",
     "text": [
      "E:\\Anaconda3\\lib\\site-packages\\pandas\\core\\indexing.py:189: SettingWithCopyWarning: \n",
      "A value is trying to be set on a copy of a slice from a DataFrame\n",
      "\n",
      "See the caveats in the documentation: http://pandas.pydata.org/pandas-docs/stable/indexing.html#indexing-view-versus-copy\n",
      "  self._setitem_with_indexer(indexer, value)\n"
     ]
    }
   ],
   "source": [
    "for i in range(len(df4)):   \n",
    "    df4.DateTime.iloc[i] = df4.DateTime.iloc[i][:16]"
   ]
  },
  {
   "cell_type": "code",
   "execution_count": 61,
   "metadata": {},
   "outputs": [],
   "source": [
    "d = df4.copy()"
   ]
  },
  {
   "cell_type": "code",
   "execution_count": 62,
   "metadata": {},
   "outputs": [],
   "source": [
    "#def kwtow(w):\n",
    "#    w = w//1000\n",
    "#    return w"
   ]
  },
  {
   "cell_type": "code",
   "execution_count": 63,
   "metadata": {},
   "outputs": [],
   "source": [
    "#d['KWh'] = kwtow(d['KWh'])"
   ]
  },
  {
   "cell_type": "code",
   "execution_count": 64,
   "metadata": {},
   "outputs": [],
   "source": [
    "#d['KWh'] = d['KWh'].astype(int)"
   ]
  },
  {
   "cell_type": "code",
   "execution_count": 65,
   "metadata": {},
   "outputs": [
    {
     "data": {
      "text/html": [
       "<div>\n",
       "<style scoped>\n",
       "    .dataframe tbody tr th:only-of-type {\n",
       "        vertical-align: middle;\n",
       "    }\n",
       "\n",
       "    .dataframe tbody tr th {\n",
       "        vertical-align: top;\n",
       "    }\n",
       "\n",
       "    .dataframe thead th {\n",
       "        text-align: right;\n",
       "    }\n",
       "</style>\n",
       "<table border=\"1\" class=\"dataframe\">\n",
       "  <thead>\n",
       "    <tr style=\"text-align: right;\">\n",
       "      <th></th>\n",
       "      <th>DateTime</th>\n",
       "      <th>KWh</th>\n",
       "      <th>id</th>\n",
       "    </tr>\n",
       "  </thead>\n",
       "  <tbody>\n",
       "    <tr>\n",
       "      <th>326612</th>\n",
       "      <td>2011-12-07 09:30</td>\n",
       "      <td>0.303</td>\n",
       "      <td>0</td>\n",
       "    </tr>\n",
       "    <tr>\n",
       "      <th>326613</th>\n",
       "      <td>2011-12-07 10:00</td>\n",
       "      <td>0.200</td>\n",
       "      <td>1</td>\n",
       "    </tr>\n",
       "    <tr>\n",
       "      <th>326614</th>\n",
       "      <td>2011-12-07 10:30</td>\n",
       "      <td>0.218</td>\n",
       "      <td>2</td>\n",
       "    </tr>\n",
       "    <tr>\n",
       "      <th>326615</th>\n",
       "      <td>2011-12-07 11:00</td>\n",
       "      <td>0.209</td>\n",
       "      <td>3</td>\n",
       "    </tr>\n",
       "    <tr>\n",
       "      <th>326616</th>\n",
       "      <td>2011-12-07 11:30</td>\n",
       "      <td>0.210</td>\n",
       "      <td>4</td>\n",
       "    </tr>\n",
       "  </tbody>\n",
       "</table>\n",
       "</div>"
      ],
      "text/plain": [
       "                DateTime    KWh  id\n",
       "326612  2011-12-07 09:30  0.303   0\n",
       "326613  2011-12-07 10:00  0.200   1\n",
       "326614  2011-12-07 10:30  0.218   2\n",
       "326615  2011-12-07 11:00  0.209   3\n",
       "326616  2011-12-07 11:30  0.210   4"
      ]
     },
     "execution_count": 65,
     "metadata": {},
     "output_type": "execute_result"
    }
   ],
   "source": [
    "d.head()"
   ]
  },
  {
   "cell_type": "code",
   "execution_count": 66,
   "metadata": {},
   "outputs": [],
   "source": [
    "train = d[0:int(len(df4)*0.7)]\n",
    "test = d[int(len(df4)*0.7):]"
   ]
  },
  {
   "cell_type": "code",
   "execution_count": 67,
   "metadata": {},
   "outputs": [],
   "source": [
    "from datetime import datetime"
   ]
  },
  {
   "cell_type": "code",
   "execution_count": 68,
   "metadata": {},
   "outputs": [
    {
     "name": "stderr",
     "output_type": "stream",
     "text": [
      "E:\\Anaconda3\\lib\\site-packages\\ipykernel_launcher.py:1: UserWarning: Pandas doesn't allow columns to be created via a new attribute name - see https://pandas.pydata.org/pandas-docs/stable/indexing.html#attribute-access\n",
      "  \"\"\"Entry point for launching an IPython kernel.\n",
      "E:\\Anaconda3\\lib\\site-packages\\ipykernel_launcher.py:4: UserWarning: Pandas doesn't allow columns to be created via a new attribute name - see https://pandas.pydata.org/pandas-docs/stable/indexing.html#attribute-access\n",
      "  after removing the cwd from sys.path.\n",
      "E:\\Anaconda3\\lib\\site-packages\\ipykernel_launcher.py:7: UserWarning: Pandas doesn't allow columns to be created via a new attribute name - see https://pandas.pydata.org/pandas-docs/stable/indexing.html#attribute-access\n",
      "  import sys\n"
     ]
    }
   ],
   "source": [
    "d.Timestamp = pd.to_datetime(d.DateTime,format='%Y-%m-%d %H:%M') \n",
    "d.index = d.Timestamp \n",
    "d = d.resample('H').sum()\n",
    "train.Timestamp = pd.to_datetime(train.DateTime,format='%Y-%m-%d %H:%M') \n",
    "train.index = train.Timestamp \n",
    "train = train.resample('H').sum() \n",
    "test.Timestamp = pd.to_datetime(test.DateTime,format='%Y-%m-%d %H:%M') \n",
    "test.index = test.Timestamp \n",
    "test = test.resample('H').sum()"
   ]
  },
  {
   "cell_type": "code",
   "execution_count": 69,
   "metadata": {},
   "outputs": [],
   "source": [
    "#d['KWh'] = d.KWh.astype(int)"
   ]
  },
  {
   "cell_type": "code",
   "execution_count": 93,
   "metadata": {},
   "outputs": [
    {
     "data": {
      "text/html": [
       "<div>\n",
       "<style scoped>\n",
       "    .dataframe tbody tr th:only-of-type {\n",
       "        vertical-align: middle;\n",
       "    }\n",
       "\n",
       "    .dataframe tbody tr th {\n",
       "        vertical-align: top;\n",
       "    }\n",
       "\n",
       "    .dataframe thead th {\n",
       "        text-align: right;\n",
       "    }\n",
       "</style>\n",
       "<table border=\"1\" class=\"dataframe\">\n",
       "  <thead>\n",
       "    <tr style=\"text-align: right;\">\n",
       "      <th></th>\n",
       "      <th>KWh</th>\n",
       "      <th>id</th>\n",
       "    </tr>\n",
       "    <tr>\n",
       "      <th>DateTime</th>\n",
       "      <th></th>\n",
       "      <th></th>\n",
       "    </tr>\n",
       "  </thead>\n",
       "  <tbody>\n",
       "    <tr>\n",
       "      <th>2011-12-07 09:00:00</th>\n",
       "      <td>0.303</td>\n",
       "      <td>0</td>\n",
       "    </tr>\n",
       "    <tr>\n",
       "      <th>2011-12-07 10:00:00</th>\n",
       "      <td>0.418</td>\n",
       "      <td>3</td>\n",
       "    </tr>\n",
       "    <tr>\n",
       "      <th>2011-12-07 11:00:00</th>\n",
       "      <td>0.419</td>\n",
       "      <td>7</td>\n",
       "    </tr>\n",
       "    <tr>\n",
       "      <th>2011-12-07 12:00:00</th>\n",
       "      <td>0.677</td>\n",
       "      <td>11</td>\n",
       "    </tr>\n",
       "    <tr>\n",
       "      <th>2011-12-07 13:00:00</th>\n",
       "      <td>1.335</td>\n",
       "      <td>15</td>\n",
       "    </tr>\n",
       "  </tbody>\n",
       "</table>\n",
       "</div>"
      ],
      "text/plain": [
       "                       KWh  id\n",
       "DateTime                      \n",
       "2011-12-07 09:00:00  0.303   0\n",
       "2011-12-07 10:00:00  0.418   3\n",
       "2011-12-07 11:00:00  0.419   7\n",
       "2011-12-07 12:00:00  0.677  11\n",
       "2011-12-07 13:00:00  1.335  15"
      ]
     },
     "execution_count": 93,
     "metadata": {},
     "output_type": "execute_result"
    }
   ],
   "source": [
    "d.head()"
   ]
  },
  {
   "cell_type": "code",
   "execution_count": 71,
   "metadata": {},
   "outputs": [
    {
     "data": {
      "image/png": "[encoded data removed]",
      "text/plain": [
       "<Figure size 1080x576 with 1 Axes>"
      ]
     },
     "metadata": {},
     "output_type": "display_data"
    }
   ],
   "source": [
    "import matplotlib.pyplot as plt\n",
    "train.KWh.plot(figsize=(15,8), title= 'Daily Usage', fontsize=14)\n",
    "test.KWh.plot(figsize=(15,8), title= 'Daily Usage', fontsize=14)\n",
    "plt.show()"
   ]
  },
  {
   "cell_type": "code",
   "execution_count": 90,
   "metadata": {},
   "outputs": [
    {
     "data": {
      "image/png": "[encoded data removed]",
      "text/plain": [
       "<Figure size 1152x576 with 1 Axes>"
      ]
     },
     "metadata": {},
     "output_type": "display_data"
    }
   ],
   "source": [
    "import statsmodels.api as sm\n",
    "y_hat_avg = test.copy()\n",
    "fit1 = sm.tsa.statespace.SARIMAX(train.KWh,seasonal_order=(0,1,1,24)).fit()\n",
    "y_hat_avg['SARIMA'] = fit1.predict(start=\"2013-06-28 22:00:00\", end=\"2014-02-28 00:00:00\", dynamic=True)\n",
    "#y_hat_avg.dropna(axis=0, how='any', thresh=None, subset=None, inplace=True)\n",
    "#y_hat_avg = y_hat_avg.dropna(how='any',axis=0) \n",
    "plt.figure(figsize=(16,8))\n",
    "plt.plot( train['KWh'], label='Train')\n",
    "plt.plot(test['KWh'], label='Test')\n",
    "plt.plot(y_hat_avg['SARIMA'], label='SARIMA')\n",
    "plt.legend(loc='best')\n",
    "plt.show()"
   ]
  },
  {
   "cell_type": "code",
   "execution_count": 92,
   "metadata": {},
   "outputs": [
    {
     "name": "stdout",
     "output_type": "stream",
     "text": [
      "Mean Absolute Error: 0.16550027645950857\n",
      "Mean Squared Error: 0.06481737553462108\n",
      "Root Mean Squared Error: 0.254592567712848\n"
     ]
    }
   ],
   "source": [
    "import sklearn.metrics as metrics\n",
    "print('Mean Absolute Error:', metrics.mean_absolute_error(test.KWh, y_hat_avg.SARIMA))  \n",
    "print('Mean Squared Error:', metrics.mean_squared_error(test.KWh, y_hat_avg.SARIMA))  \n",
    "print('Root Mean Squared Error:', np.sqrt(metrics.mean_squared_error(test.KWh, y_hat_avg.SARIMA)))"
   ]
  },
  {
   "cell_type": "code",
   "execution_count": 94,
   "metadata": {},
   "outputs": [],
   "source": [
    "df5 = df2.copy()"
   ]
  },
  {
   "cell_type": "code",
   "execution_count": 95,
   "metadata": {},
   "outputs": [],
   "source": [
    "del df5['stdorToU']\n",
    "del df5['Acorn']\n",
    "del df5['Acorn_grouped']\n",
    "del df5['LCLid']"
   ]
  },
  {
   "cell_type": "code",
   "execution_count": 204,
   "metadata": {},
   "outputs": [],
   "source": [
    "#df5['KWh'] = kwtow(df5['KWh'])"
   ]
  },
  {
   "cell_type": "code",
   "execution_count": 205,
   "metadata": {},
   "outputs": [],
   "source": [
    "#df5['KWh'] = df5['KWh'].astype(int)"
   ]
  },
  {
   "cell_type": "code",
   "execution_count": 96,
   "metadata": {},
   "outputs": [],
   "source": [
    "ids = []\n",
    "for i in range(len(df5)):\n",
    "    ids.append(i)"
   ]
  },
  {
   "cell_type": "code",
   "execution_count": 97,
   "metadata": {},
   "outputs": [],
   "source": [
    "df5['id'] = ids"
   ]
  },
  {
   "cell_type": "code",
   "execution_count": 98,
   "metadata": {},
   "outputs": [
    {
     "name": "stderr",
     "output_type": "stream",
     "text": [
      "E:\\Anaconda3\\lib\\site-packages\\pandas\\core\\indexing.py:189: SettingWithCopyWarning: \n",
      "A value is trying to be set on a copy of a slice from a DataFrame\n",
      "\n",
      "See the caveats in the documentation: http://pandas.pydata.org/pandas-docs/stable/indexing.html#indexing-view-versus-copy\n",
      "  self._setitem_with_indexer(indexer, value)\n"
     ]
    }
   ],
   "source": [
    "for i in range(len(df5)):   \n",
    "    df5.DateTime.iloc[i] = df5.DateTime.iloc[i][:16]"
   ]
  },
  {
   "cell_type": "code",
   "execution_count": 129,
   "metadata": {},
   "outputs": [],
   "source": [
    "d1 = df5.copy()"
   ]
  },
  {
   "cell_type": "code",
   "execution_count": 130,
   "metadata": {},
   "outputs": [],
   "source": [
    "train1 = d1[0:int(len(df5)*0.7)]\n",
    "test1 = d1[int(len(df5)*0.7):]"
   ]
  },
  {
   "cell_type": "code",
   "execution_count": 131,
   "metadata": {},
   "outputs": [
    {
     "name": "stderr",
     "output_type": "stream",
     "text": [
      "E:\\Anaconda3\\lib\\site-packages\\ipykernel_launcher.py:1: UserWarning: Pandas doesn't allow columns to be created via a new attribute name - see https://pandas.pydata.org/pandas-docs/stable/indexing.html#attribute-access\n",
      "  \"\"\"Entry point for launching an IPython kernel.\n",
      "E:\\Anaconda3\\lib\\site-packages\\ipykernel_launcher.py:4: UserWarning: Pandas doesn't allow columns to be created via a new attribute name - see https://pandas.pydata.org/pandas-docs/stable/indexing.html#attribute-access\n",
      "  after removing the cwd from sys.path.\n",
      "E:\\Anaconda3\\lib\\site-packages\\ipykernel_launcher.py:7: UserWarning: Pandas doesn't allow columns to be created via a new attribute name - see https://pandas.pydata.org/pandas-docs/stable/indexing.html#attribute-access\n",
      "  import sys\n"
     ]
    }
   ],
   "source": [
    "d1.Timestamp = pd.to_datetime(d1.DateTime,format='%Y-%m-%d %H:%M') \n",
    "d1.index = d1.Timestamp \n",
    "d1 = d1.resample('H').sum()\n",
    "train1.Timestamp = pd.to_datetime(train1.DateTime,format='%Y-%m-%d %H:%M') \n",
    "train1.index = train1.Timestamp \n",
    "train1 = train1.resample('H').sum() \n",
    "test1.Timestamp = pd.to_datetime(test1.DateTime,format='%Y-%m-%d %H:%M') \n",
    "test1.index = test1.Timestamp \n",
    "test1 = test1.resample('H').sum()"
   ]
  },
  {
   "cell_type": "code",
   "execution_count": 132,
   "metadata": {},
   "outputs": [
    {
     "data": {
      "text/html": [
       "<div>\n",
       "<style scoped>\n",
       "    .dataframe tbody tr th:only-of-type {\n",
       "        vertical-align: middle;\n",
       "    }\n",
       "\n",
       "    .dataframe tbody tr th {\n",
       "        vertical-align: top;\n",
       "    }\n",
       "\n",
       "    .dataframe thead th {\n",
       "        text-align: right;\n",
       "    }\n",
       "</style>\n",
       "<table border=\"1\" class=\"dataframe\">\n",
       "  <thead>\n",
       "    <tr style=\"text-align: right;\">\n",
       "      <th></th>\n",
       "      <th>KWh</th>\n",
       "      <th>id</th>\n",
       "    </tr>\n",
       "    <tr>\n",
       "      <th>DateTime</th>\n",
       "      <th></th>\n",
       "      <th></th>\n",
       "    </tr>\n",
       "  </thead>\n",
       "  <tbody>\n",
       "    <tr>\n",
       "      <th>2011-12-07 09:00:00</th>\n",
       "      <td>0.275</td>\n",
       "      <td>0</td>\n",
       "    </tr>\n",
       "    <tr>\n",
       "      <th>2011-12-07 10:00:00</th>\n",
       "      <td>0.435</td>\n",
       "      <td>3</td>\n",
       "    </tr>\n",
       "    <tr>\n",
       "      <th>2011-12-07 11:00:00</th>\n",
       "      <td>0.511</td>\n",
       "      <td>7</td>\n",
       "    </tr>\n",
       "    <tr>\n",
       "      <th>2011-12-07 12:00:00</th>\n",
       "      <td>0.274</td>\n",
       "      <td>11</td>\n",
       "    </tr>\n",
       "    <tr>\n",
       "      <th>2011-12-07 13:00:00</th>\n",
       "      <td>0.484</td>\n",
       "      <td>15</td>\n",
       "    </tr>\n",
       "  </tbody>\n",
       "</table>\n",
       "</div>"
      ],
      "text/plain": [
       "                       KWh  id\n",
       "DateTime                      \n",
       "2011-12-07 09:00:00  0.275   0\n",
       "2011-12-07 10:00:00  0.435   3\n",
       "2011-12-07 11:00:00  0.511   7\n",
       "2011-12-07 12:00:00  0.274  11\n",
       "2011-12-07 13:00:00  0.484  15"
      ]
     },
     "execution_count": 132,
     "metadata": {},
     "output_type": "execute_result"
    }
   ],
   "source": [
    "d1.head()"
   ]
  },
  {
   "cell_type": "code",
   "execution_count": 133,
   "metadata": {},
   "outputs": [
    {
     "data": {
      "image/png": "[encoded data removed]",
      "text/plain": [
       "<Figure size 1080x576 with 1 Axes>"
      ]
     },
     "metadata": {},
     "output_type": "display_data"
    }
   ],
   "source": [
    "import matplotlib.pyplot as plt\n",
    "train1.KWh.plot(figsize=(15,8), title= 'Daily Usage', fontsize=14)\n",
    "test1.KWh.plot(figsize=(15,8), title= 'Daily Usage', fontsize=14)\n",
    "plt.show()"
   ]
  },
  {
   "cell_type": "code",
   "execution_count": 136,
   "metadata": {},
   "outputs": [
    {
     "data": {
      "image/png": "[encoded data removed]",
      "text/plain": [
       "<Figure size 1152x576 with 1 Axes>"
      ]
     },
     "metadata": {},
     "output_type": "display_data"
    }
   ],
   "source": [
    "import statsmodels.api as sm\n",
    "y_hat_avg = test1.copy()\n",
    "fit1 = sm.tsa.statespace.SARIMAX(train1.KWh,seasonal_order=(0,1,1,24)).fit()\n",
    "y_hat_avg['SARIMA'] = fit1.predict(start=\"2013-06-28 22:00:00\", end=\"2014-02-28 00:00:00\", dynamic=True)\n",
    "#y_hat_avg.dropna(axis=0, how='any', thresh=None, subset=None, inplace=True)\n",
    "#y_hat_avg = y_hat_avg.dropna(how='any',axis=0) \n",
    "plt.figure(figsize=(16,8))\n",
    "plt.plot( train1['KWh'], label='Train')\n",
    "plt.plot(test1['KWh'], label='Test')\n",
    "plt.plot(y_hat_avg['SARIMA'], label='SARIMA')\n",
    "plt.legend(loc='best')\n",
    "plt.show()"
   ]
  },
  {
   "cell_type": "code",
   "execution_count": 137,
   "metadata": {},
   "outputs": [
    {
     "name": "stdout",
     "output_type": "stream",
     "text": [
      "Mean Absolute Error: 0.15485088929961985\n",
      "Mean Squared Error: 0.06619472426373574\n",
      "Root Mean Squared Error: 0.25728335403545977\n"
     ]
    }
   ],
   "source": [
    "import sklearn.metrics as metrics\n",
    "print('Mean Absolute Error:', metrics.mean_absolute_error(test1.KWh, y_hat_avg.SARIMA))  \n",
    "print('Mean Squared Error:', metrics.mean_squared_error(test1.KWh, y_hat_avg.SARIMA))  \n",
    "print('Root Mean Squared Error:', np.sqrt(metrics.mean_squared_error(test1.KWh, y_hat_avg.SARIMA)))"
   ]
  },
  {
   "cell_type": "code",
   "execution_count": 116,
   "metadata": {},
   "outputs": [],
   "source": [
    "df6 = df3.copy()"
   ]
  },
  {
   "cell_type": "code",
   "execution_count": 117,
   "metadata": {},
   "outputs": [],
   "source": [
    "del df6['stdorToU']\n",
    "del df6['Acorn']\n",
    "del df6['Acorn_grouped']\n",
    "del df6['LCLid']"
   ]
  },
  {
   "cell_type": "code",
   "execution_count": 118,
   "metadata": {},
   "outputs": [],
   "source": [
    "ids = []\n",
    "for i in range(len(df6)):\n",
    "    ids.append(i)"
   ]
  },
  {
   "cell_type": "code",
   "execution_count": 119,
   "metadata": {},
   "outputs": [],
   "source": [
    "df6['id'] = ids"
   ]
  },
  {
   "cell_type": "code",
   "execution_count": 120,
   "metadata": {},
   "outputs": [
    {
     "name": "stderr",
     "output_type": "stream",
     "text": [
      "E:\\Anaconda3\\lib\\site-packages\\pandas\\core\\indexing.py:189: SettingWithCopyWarning: \n",
      "A value is trying to be set on a copy of a slice from a DataFrame\n",
      "\n",
      "See the caveats in the documentation: http://pandas.pydata.org/pandas-docs/stable/indexing.html#indexing-view-versus-copy\n",
      "  self._setitem_with_indexer(indexer, value)\n"
     ]
    }
   ],
   "source": [
    "for i in range(len(df6)):   \n",
    "    df6.DateTime.iloc[i] = df6.DateTime.iloc[i][:16]"
   ]
  },
  {
   "cell_type": "code",
   "execution_count": 138,
   "metadata": {},
   "outputs": [],
   "source": [
    "d2 = df6.copy()"
   ]
  },
  {
   "cell_type": "code",
   "execution_count": 139,
   "metadata": {},
   "outputs": [],
   "source": [
    "train2 = d2[0:int(len(df6)*0.7)]\n",
    "test2 = d2[int(len(df6)*0.7):]"
   ]
  },
  {
   "cell_type": "code",
   "execution_count": 140,
   "metadata": {},
   "outputs": [
    {
     "name": "stderr",
     "output_type": "stream",
     "text": [
      "E:\\Anaconda3\\lib\\site-packages\\ipykernel_launcher.py:1: UserWarning: Pandas doesn't allow columns to be created via a new attribute name - see https://pandas.pydata.org/pandas-docs/stable/indexing.html#attribute-access\n",
      "  \"\"\"Entry point for launching an IPython kernel.\n",
      "E:\\Anaconda3\\lib\\site-packages\\ipykernel_launcher.py:4: UserWarning: Pandas doesn't allow columns to be created via a new attribute name - see https://pandas.pydata.org/pandas-docs/stable/indexing.html#attribute-access\n",
      "  after removing the cwd from sys.path.\n",
      "E:\\Anaconda3\\lib\\site-packages\\ipykernel_launcher.py:7: UserWarning: Pandas doesn't allow columns to be created via a new attribute name - see https://pandas.pydata.org/pandas-docs/stable/indexing.html#attribute-access\n",
      "  import sys\n"
     ]
    }
   ],
   "source": [
    "d2.Timestamp = pd.to_datetime(d2.DateTime,format='%Y-%m-%d %H:%M') \n",
    "d2.index = d2.Timestamp \n",
    "d2 = d2.resample('H').sum()\n",
    "train2.Timestamp = pd.to_datetime(train2.DateTime,format='%Y-%m-%d %H:%M') \n",
    "train2.index = train2.Timestamp \n",
    "train2 = train2.resample('H').sum() \n",
    "test2.Timestamp = pd.to_datetime(test2.DateTime,format='%Y-%m-%d %H:%M') \n",
    "test2.index = test2.Timestamp \n",
    "test2 = test2.resample('H').sum()"
   ]
  },
  {
   "cell_type": "code",
   "execution_count": 141,
   "metadata": {},
   "outputs": [
    {
     "data": {
      "image/png": "[encoded data removed]",
      "text/plain": [
       "<Figure size 1080x576 with 1 Axes>"
      ]
     },
     "metadata": {},
     "output_type": "display_data"
    }
   ],
   "source": [
    "import matplotlib.pyplot as plt\n",
    "train2.KWh.plot(figsize=(15,8), title= 'Daily Usage', fontsize=14)\n",
    "test2.KWh.plot(figsize=(15,8), title= 'Daily Usage', fontsize=14)\n",
    "plt.show()"
   ]
  },
  {
   "cell_type": "code",
   "execution_count": 144,
   "metadata": {},
   "outputs": [
    {
     "data": {
      "image/png": "[encoded data removed]",
      "text/plain": [
       "<Figure size 1152x576 with 1 Axes>"
      ]
     },
     "metadata": {},
     "output_type": "display_data"
    }
   ],
   "source": [
    "import statsmodels.api as sm\n",
    "y_hat_avg = test2.copy()\n",
    "fit1 = sm.tsa.statespace.SARIMAX(train2.KWh,seasonal_order=(0,1,1,24)).fit()\n",
    "y_hat_avg['SARIMA'] = fit1.predict(start=\"2013-06-28 22:00:00\", end=\"2014-02-28 00:00:00\", dynamic=True)\n",
    "#y_hat_avg.dropna(axis=0, how='any', thresh=None, subset=None, inplace=True)\n",
    "#y_hat_avg = y_hat_avg.dropna(how='any',axis=0) \n",
    "plt.figure(figsize=(16,8))\n",
    "plt.plot( train2['KWh'], label='Train')\n",
    "plt.plot(test2['KWh'], label='Test')\n",
    "plt.plot(y_hat_avg['SARIMA'], label='SARIMA')\n",
    "plt.legend(loc='best')\n",
    "plt.show()"
   ]
  },
  {
   "cell_type": "code",
   "execution_count": 145,
   "metadata": {},
   "outputs": [
    {
     "name": "stdout",
     "output_type": "stream",
     "text": [
      "Mean Absolute Error: 0.29393343668038163\n",
      "Mean Squared Error: 0.21980909193781473\n",
      "Root Mean Squared Error: 0.46883802313572515\n"
     ]
    }
   ],
   "source": [
    "import sklearn.metrics as metrics\n",
    "print('Mean Absolute Error:', metrics.mean_absolute_error(test2.KWh, y_hat_avg.SARIMA))  \n",
    "print('Mean Squared Error:', metrics.mean_squared_error(test2.KWh, y_hat_avg.SARIMA))  \n",
    "print('Root Mean Squared Error:', np.sqrt(metrics.mean_squared_error(test2.KWh, y_hat_avg.SARIMA)))"
   ]
  }
 ],
 "metadata": {
  "kernelspec": {
   "display_name": "Python 3",
   "language": "python",
   "name": "python3"
  },
  "language_info": {
   "codemirror_mode": {
    "name": "ipython",
    "version": 3
   },
   "file_extension": ".py",
   "mimetype": "text/x-python",
   "name": "python",
   "nbconvert_exporter": "python",
   "pygments_lexer": "ipython3",
   "version": "3.6.5"
  }
 },
 "nbformat": 4,
 "nbformat_minor": 2
}
